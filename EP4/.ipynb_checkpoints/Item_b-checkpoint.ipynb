{
 "cells": [
  {
   "cell_type": "code",
   "execution_count": 1,
   "metadata": {},
   "outputs": [],
   "source": [
    "def intersect_bin_search(func0, func1, inf, sup, eps=0.001):\n",
    "    delta_inf = func1(inf+eps**2) - func0(inf+eps**2)\n",
    "    delta_sup = func1(sup-eps**2) - func0(sup-eps**2)\n",
    "    if delta_inf * delta_sup > 0: return None\n",
    "    else:\n",
    "        if sup-inf <= eps: return (sup+inf)/2\n",
    "        else: return intersect_bin_search(func0, func1, inf, (sup+inf)/2) or intersect_bin_search(func0, func1, (sup+inf)/2, sup)"
   ]
  },
  {
   "cell_type": "code",
   "execution_count": 5,
   "metadata": {},
   "outputs": [
    {
     "ename": "NameError",
     "evalue": "name 'func_0' is not defined",
     "output_type": "error",
     "traceback": [
      "\u001b[0;31m---------------------------------------------------------------------------\u001b[0m",
      "\u001b[0;31mNameError\u001b[0m                                 Traceback (most recent call last)",
      "\u001b[0;32m<ipython-input-5-edc0791e5c2b>\u001b[0m in \u001b[0;36m<module>\u001b[0;34m\u001b[0m\n\u001b[1;32m     13\u001b[0m     \u001b[0mE_sup\u001b[0m \u001b[0;34m=\u001b[0m \u001b[0marg_tan_sup\u001b[0m\u001b[0;34m**\u001b[0m\u001b[0;36m2\u001b[0m \u001b[0;34m*\u001b[0m \u001b[0;36m2\u001b[0m \u001b[0;34m*\u001b[0m \u001b[0mh_\u001b[0m\u001b[0;34m**\u001b[0m\u001b[0;36m2\u001b[0m \u001b[0;34m/\u001b[0m \u001b[0;34m(\u001b[0m\u001b[0mw\u001b[0m\u001b[0;34m**\u001b[0m\u001b[0;36m2\u001b[0m \u001b[0;34m*\u001b[0m \u001b[0mm\u001b[0m\u001b[0;34m)\u001b[0m\u001b[0;34m\u001b[0m\u001b[0;34m\u001b[0m\u001b[0m\n\u001b[1;32m     14\u001b[0m \u001b[0;34m\u001b[0m\u001b[0m\n\u001b[0;32m---> 15\u001b[0;31m     \u001b[0;32mif\u001b[0m \u001b[0mi\u001b[0m\u001b[0;34m%\u001b[0m\u001b[0;36m2\u001b[0m\u001b[0;34m==\u001b[0m\u001b[0;36m0\u001b[0m\u001b[0;34m:\u001b[0m \u001b[0mprint\u001b[0m\u001b[0;34m(\u001b[0m\u001b[0mintersect_bin_search\u001b[0m\u001b[0;34m(\u001b[0m\u001b[0mfunc_0\u001b[0m\u001b[0;34m,\u001b[0m \u001b[0mfunc_2\u001b[0m\u001b[0;34m,\u001b[0m \u001b[0mE_inf\u001b[0m\u001b[0;34m,\u001b[0m \u001b[0mE_sup\u001b[0m\u001b[0;34m)\u001b[0m\u001b[0;34m)\u001b[0m\u001b[0;34m\u001b[0m\u001b[0;34m\u001b[0m\u001b[0m\n\u001b[0m\u001b[1;32m     16\u001b[0m     \u001b[0;32melse\u001b[0m\u001b[0;34m:\u001b[0m \u001b[0mprint\u001b[0m\u001b[0;34m(\u001b[0m\u001b[0mintersect_bin_search\u001b[0m\u001b[0;34m(\u001b[0m\u001b[0mfunc_0\u001b[0m\u001b[0;34m,\u001b[0m \u001b[0mfunc_1\u001b[0m\u001b[0;34m,\u001b[0m \u001b[0mE_inf\u001b[0m\u001b[0;34m,\u001b[0m \u001b[0mE_sup\u001b[0m\u001b[0;34m)\u001b[0m\u001b[0;34m)\u001b[0m\u001b[0;34m\u001b[0m\u001b[0;34m\u001b[0m\u001b[0m\n",
      "\u001b[0;31mNameError\u001b[0m: name 'func_0' is not defined"
     ]
    }
   ],
   "source": [
    "from math import pi\n",
    "from scipy.constants import physical_constants\n",
    "w=1e-9\n",
    "\n",
    "h_ = physical_constants['Planck constant over 2 pi in eV s'][0]\n",
    "m  = 9.1094e-31 / physical_constants['electron volt'][0] # massa do elétron\n",
    "\n",
    "for i in range(6):\n",
    "    arg_tan_inf = -pi/2 + pi*((i+1)//2) if -pi/2 + pi*((i+1)//2)>0 else 0\n",
    "    arg_tan_sup =  pi/2 + pi*((i+1)//2)\n",
    "    \n",
    "    E_inf = arg_tan_inf**2 * 2 * h_**2 / (w**2 * m)\n",
    "    E_sup = arg_tan_sup**2 * 2 * h_**2 / (w**2 * m)\n",
    "    \n",
    "    if i%2==0: print(intersect_bin_search(func_0, func_2, E_inf, E_sup))\n",
    "    else: print(intersect_bin_search(func_0, func_1, E_inf, E_sup))"
   ]
  },
  {
   "cell_type": "code",
   "execution_count": null,
   "metadata": {},
   "outputs": [],
   "source": []
  }
 ],
 "metadata": {
  "kernelspec": {
   "display_name": "Python 3",
   "language": "python",
   "name": "python3"
  },
  "language_info": {
   "codemirror_mode": {
    "name": "ipython",
    "version": 3
   },
   "file_extension": ".py",
   "mimetype": "text/x-python",
   "name": "python",
   "nbconvert_exporter": "python",
   "pygments_lexer": "ipython3",
   "version": "3.7.4"
  }
 },
 "nbformat": 4,
 "nbformat_minor": 2
}
