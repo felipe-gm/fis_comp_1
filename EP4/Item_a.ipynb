{
 "cells": [
  {
   "cell_type": "markdown",
   "metadata": {},
   "source": [
    "por Felipe Miyazato"
   ]
  },
  {
   "cell_type": "code",
   "execution_count": 1,
   "metadata": {
    "ExecuteTime": {
     "end_time": "2019-12-04T08:11:19.235083Z",
     "start_time": "2019-12-04T08:11:19.198803Z"
    }
   },
   "outputs": [],
   "source": [
    "def func_0(E_i, omega=1e-9):\n",
    "    \"\"\"Calculates the result for the equation:\n",
    "    tan(sqrt((omega^2 * m * E_i)/(2 * h_^2)))\n",
    "    \n",
    "    Positional arguments:\n",
    "    E_i -- energy in eV\n",
    "    \n",
    "    Keyword arguments:\n",
    "    omega -- largura do poco potencial em metros (default 1e-9)\n",
    "    \"\"\"\n",
    "    \n",
    "    from numpy import tan\n",
    "    from scipy.constants import physical_constants\n",
    "    \n",
    "    m  = 9.1094e-31 / physical_constants['electron volt'][0] # massa do elétron\n",
    "    h_ = physical_constants['Planck constant over 2 pi in eV s'][0]\n",
    "\n",
    "    return tan((omega**2 * m * E_i / (2 * h_**2))**(1/2))\n",
    "\n",
    "def func_1(E, V=20): \n",
    "    \"\"\"Calculates the result for the equation:\n",
    "    -sqrt((E)/(V - E))\n",
    "    \n",
    "    Positional arguments:\n",
    "    E -- energy in eV\n",
    "    \n",
    "    Keyword arguments:\n",
    "    V -- profundidade do potencial em eV (default 20.)\n",
    "    \"\"\"\n",
    "    \n",
    "    return -(E / (V - E))**(1/2)\n",
    "\n",
    "def func_2(E, V=20):\n",
    "    \"\"\"Calculates the result for the equation:\n",
    "    sqrt((V - E)/(E))\n",
    "    \n",
    "    Positional arguments:\n",
    "    E -- energy in eV\n",
    "    \n",
    "    Keyword arguments:\n",
    "    V -- profundidade do potencial em eV (default 20.)\n",
    "    \"\"\"\n",
    "    \n",
    "    return  ((V - E) / E)**(1/2)"
   ]
  },
  {
   "cell_type": "code",
   "execution_count": 2,
   "metadata": {
    "ExecuteTime": {
     "end_time": "2019-12-04T08:11:19.273433Z",
     "start_time": "2019-12-04T08:11:19.251307Z"
    }
   },
   "outputs": [],
   "source": [
    "def do_plot(omega=1e-9, V=20):\n",
    "    \"\"\"Plota os graficos de func_0, func_1 e func_2 sobrepostos e \n",
    "    parametrizados em omega e V.\n",
    "    \n",
    "    Keyword arguments:\n",
    "    V -- profundidade do potencial em eV (default 20.)\n",
    "    omega -- largura do poco potencial em metros (default 1e-9)\n",
    "    \"\"\"\n",
    "\n",
    "    from pylab import plot, show, ylim, xlabel, legend, xticks\n",
    "    from numpy import linspace, arange\n",
    "    \n",
    "    x = linspace(0, V, 1000)\n",
    "\n",
    "    plot(x, func_0(x, omega), label='E_i'    )\n",
    "    plot(x, func_1(x,     V), label='E_impar')\n",
    "    plot(x, func_2(x,     V), label='E_par'  )\n",
    "    \n",
    "    xlabel('E (eV)')\n",
    "    xticks(arange(0, V+1, round(V/20)))\n",
    "    ylim(-10,10)\n",
    "    legend(loc = 'upper right')\n",
    "    \n",
    "    show()"
   ]
  },
  {
   "cell_type": "code",
   "execution_count": 3,
   "metadata": {
    "ExecuteTime": {
     "end_time": "2019-12-04T08:11:20.357202Z",
     "start_time": "2019-12-04T08:11:19.292322Z"
    }
   },
   "outputs": [
    {
     "name": "stderr",
     "output_type": "stream",
     "text": [
      "/home/felipe/anaconda3/lib/python3.7/site-packages/ipykernel_launcher.py:31: RuntimeWarning: divide by zero encountered in true_divide\n",
      "/home/felipe/anaconda3/lib/python3.7/site-packages/ipykernel_launcher.py:44: RuntimeWarning: divide by zero encountered in true_divide\n"
     ]
    },
    {
     "data": {
      "text/plain": [
       "<Figure size 640x480 with 1 Axes>"
      ]
     },
     "metadata": {},
     "output_type": "display_data"
    }
   ],
   "source": [
    "def main():\n",
    "    do_plot()\n",
    "    \n",
    "if __name__ == \"__main__\":\n",
    "    main()"
   ]
  },
  {
   "cell_type": "markdown",
   "metadata": {},
   "source": [
    "Estimativas visuais:\n",
    " - E_1: 0.3 eV,\n",
    " - E_2: 1.3 eV, \n",
    " - E_3: 2.9 eV,\n",
    " - E_4: 5.1 eV, \n",
    " - E_5: 7.9 eV, \n",
    " - E_6: 11.2 eV"
   ]
  }
 ],
 "metadata": {
  "kernelspec": {
   "display_name": "Python 3",
   "language": "python",
   "name": "python3"
  },
  "language_info": {
   "codemirror_mode": {
    "name": "ipython",
    "version": 3
   },
   "file_extension": ".py",
   "mimetype": "text/x-python",
   "name": "python",
   "nbconvert_exporter": "python",
   "pygments_lexer": "ipython3",
   "version": "3.7.4"
  }
 },
 "nbformat": 4,
 "nbformat_minor": 2
}
