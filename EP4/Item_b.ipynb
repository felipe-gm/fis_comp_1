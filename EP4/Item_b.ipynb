{
 "cells": [
  {
   "cell_type": "markdown",
   "metadata": {},
   "source": [
    "por Felipe Miyazato"
   ]
  },
  {
   "cell_type": "code",
   "execution_count": 1,
   "metadata": {
    "ExecuteTime": {
     "end_time": "2019-12-04T07:41:37.209290Z",
     "start_time": "2019-12-04T07:41:37.194454Z"
    }
   },
   "outputs": [],
   "source": [
    "def intersect_bin_search(func_0, func_1, inf, sup, eps=0.001):\n",
    "    \"\"\"Given two monotone function (func0, func1: float -> float) over the\n",
    "    iterval [inf, sup] (inf, sup in float) returns inferred coordinate of\n",
    "    istersenction with precision eps.\n",
    "    \n",
    "    Positional arguments:\n",
    "    func_0, func_1 -- monotone function over [inf, sup]\n",
    "    inf -- lower bound of search interval\n",
    "    sup -- upper bound of search interval\n",
    "    \n",
    "    Keyword arguments:\n",
    "    eps -- precision required for the result (default .001)\n",
    "    \"\"\"\n",
    "    \n",
    "    delta_inf = func_1(inf) - func_0(inf)\n",
    "    delta_sup = func_1(sup) - func_0(sup)\n",
    "    \n",
    "    # No intersection here\n",
    "    if delta_inf * delta_sup > .0: return None \n",
    "    \n",
    "    # Exact solution found?!?\n",
    "    if delta_inf == .0: return inf\n",
    "    if delta_sup == .0: return sup\n",
    "\n",
    "    avg = (sup + inf)/2\n",
    "        \n",
    "    # Did I dug enough?\n",
    "    if sup-inf <= eps: return avg\n",
    "        \n",
    "    # Keep trying\n",
    "    return intersect_bin_search(func_0, func_1, inf, avg)\\\n",
    "        or intersect_bin_search(func_0, func_1, avg, sup)"
   ]
  },
  {
   "cell_type": "code",
   "execution_count": 2,
   "metadata": {
    "ExecuteTime": {
     "end_time": "2019-12-04T07:41:37.256643Z",
     "start_time": "2019-12-04T07:41:37.225292Z"
    }
   },
   "outputs": [],
   "source": [
    "def six_lwr_lvls(w=1e-9, V=20, eps=0.001):\n",
    "    \"\"\"Finds up to six lower possible energy levels for an electron in a\n",
    "    squared potential of width (w) and heigth (V), on precision eps.    \n",
    "    \n",
    "    Keyword arguments:\n",
    "    w -- width of potential (default 1e-9)\n",
    "    V -- heigth of potential (default 20)\n",
    "    eps -- precision required for the result (default .001)\n",
    "    \"\"\"\n",
    "    \n",
    "    from math            import pi\n",
    "    from scipy.constants import physical_constants\n",
    "    from Item_a          import func_0, func_1, func_2\n",
    "\n",
    "    h_ = physical_constants['Planck constant over 2 pi in eV s'][0]\n",
    "    m  = 9.1094e-31 / physical_constants['electron volt'][0] # massa do elétron\n",
    "    \n",
    "    i = 0\n",
    "    n_lvls = 0\n",
    "    intersections = {}\n",
    "    \n",
    "    while i < 6:\n",
    "        # define interval of search by exploring tan singularities\n",
    "        arg_tan_inf = -pi/2 + pi*((i+1)//2) if -pi/2 + pi*((i+1)//2)>0 else 0\n",
    "        arg_tan_sup =  pi/2 + pi*((i+1)//2)\n",
    "        i += 1\n",
    "\n",
    "        # define closed compact to search for E\n",
    "        E_inf = arg_tan_inf**2 * 2 * h_**2 / (w**2 * m) + eps**2\n",
    "        E_sup = arg_tan_sup**2 * 2 * h_**2 / (w**2 * m) - eps**2\n",
    "        \n",
    "        if E_inf > V: break\n",
    "        if E_sup > V: E_sup = V - eps**2\n",
    "        \n",
    "        # parametrize theoretic functions\n",
    "        func_0_w = lambda x: func_0(x, omega=w)\n",
    "        func_1_w = lambda x: func_1(x,     V=V)\n",
    "        func_2_w = lambda x: func_2(x,     V=V)\n",
    "\n",
    "        if n_lvls%2==0: # indice par\n",
    "            val = intersect_bin_search(func_0_w, func_2_w, E_inf, E_sup)\n",
    "            # found it?\n",
    "            if val is None:\n",
    "                print(\n",
    "                    f'''Sem interseccoes pares no intervalo [{E_inf}, {E_sup}],\n",
    "dada precisao {eps}'''\n",
    "                )\n",
    "            # found it!\n",
    "            else: \n",
    "                n_lvls += 1\n",
    "                intersections[f'E_{i}'] = val\n",
    "            \n",
    "        else: # indice impar\n",
    "            val = intersect_bin_search(func_0_w, func_1_w, E_inf, E_sup)\n",
    "            # found it?\n",
    "            if val is None:\n",
    "                print(\n",
    "f'''Sem interseccoes impares no intervalo [{E_inf}, {E_sup}],\n",
    "dada precisao {eps}'''\n",
    "                )\n",
    "            else:\n",
    "                n_lvls += 1\n",
    "                intersections[f'E_{i}'] = val\n",
    "    \n",
    "    return intersections"
   ]
  },
  {
   "cell_type": "code",
   "execution_count": 3,
   "metadata": {
    "ExecuteTime": {
     "end_time": "2019-12-04T07:41:37.569292Z",
     "start_time": "2019-12-04T07:41:37.262130Z"
    }
   },
   "outputs": [
    {
     "name": "stdout",
     "output_type": "stream",
     "text": [
      "Seis primeiros níveis de energia:\n",
      "{'E_1': 0.3176414009109736, 'E_2': 1.2702015506845334, 'E_3': 2.8506994096455722, 'E_4': 5.05032607481144, 'E_5': 7.849982134824704, 'E_6': 11.214877881478373}\n"
     ]
    }
   ],
   "source": [
    "def main():\n",
    "    print('Seis primeiros níveis de energia:')\n",
    "    print(six_lwr_lvls())\n",
    "    \n",
    "if __name__ == \"__main__\":\n",
    "    main()"
   ]
  }
 ],
 "metadata": {
  "kernelspec": {
   "display_name": "Python 3",
   "language": "python",
   "name": "python3"
  },
  "language_info": {
   "codemirror_mode": {
    "name": "ipython",
    "version": 3
   },
   "file_extension": ".py",
   "mimetype": "text/x-python",
   "name": "python",
   "nbconvert_exporter": "python",
   "pygments_lexer": "ipython3",
   "version": "3.7.4"
  }
 },
 "nbformat": 4,
 "nbformat_minor": 2
}
