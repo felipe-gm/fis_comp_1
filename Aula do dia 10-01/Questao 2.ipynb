{
 "cells": [
  {
   "cell_type": "code",
   "execution_count": 1,
   "metadata": {
    "ExecuteTime": {
     "end_time": "2019-10-06T08:31:40.313332Z",
     "start_time": "2019-10-06T08:31:39.945932Z"
    }
   },
   "outputs": [],
   "source": [
    "from pandas import DataFrame, Series\n",
    "\n",
    "import matplotlib.pyplot as plt\n",
    "import numpy as np\n",
    "%matplotlib inline  \n",
    "\n",
    "Ns = [n for n in range(50,1501,50)]\n",
    "\n",
    "def f(x): return (1-x**2)**(1/2)\n",
    "\n",
    "def sum_f(N): \n",
    "    s = 0.\n",
    "    for x in np.linspace(-1,1,N):\n",
    "        s += f(x)*2/N\n",
    "    return s\n",
    "\n",
    "def integr_f(): return np.pi/2\n",
    "\n",
    "re_intgr = [sum_f(n) for n in Ns]\n",
    "\n",
    "DataFrame(\n",
    "    data=re_intgr,\n",
    "    index=Series(data=Ns, name='N'),\n",
    "    columns=['re_intgr'],\n",
    ").to_csv(f'2-tabela_com_os_valores.csv')"
   ]
  },
  {
   "cell_type": "code",
   "execution_count": 2,
   "metadata": {
    "ExecuteTime": {
     "end_time": "2019-10-06T08:31:40.810419Z",
     "start_time": "2019-10-06T08:31:40.318497Z"
    }
   },
   "outputs": [
    {
     "data": {
      "image/png": "[encoded data removed]",
      "text/plain": [
       "<Figure size 432x288 with 1 Axes>"
      ]
     },
     "metadata": {
      "needs_background": "light"
     },
     "output_type": "display_data"
    }
   ],
   "source": [
    "plt.scatter(Ns, re_intgr)\n",
    "plt.plot([Ns[0],Ns[-1]],[integr_f(),integr_f()],'r')\n",
    "plt.xlabel('Pontos (N)')\n",
    "plt.ylabel(f'integral de f(x)dx entre -1 e 1')\n",
    "plt.savefig(f'3-grafico.png')"
   ]
  }
 ],
 "metadata": {
  "kernelspec": {
   "display_name": "Python 3",
   "language": "python",
   "name": "python3"
  },
  "language_info": {
   "codemirror_mode": {
    "name": "ipython",
    "version": 3
   },
   "file_extension": ".py",
   "mimetype": "text/x-python",
   "name": "python",
   "nbconvert_exporter": "python",
   "pygments_lexer": "ipython3",
   "version": "3.7.2"
  }
 },
 "nbformat": 4,
 "nbformat_minor": 2
}
