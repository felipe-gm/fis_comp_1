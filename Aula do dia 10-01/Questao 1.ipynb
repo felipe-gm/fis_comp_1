{
 "cells": [
  {
   "cell_type": "code",
   "execution_count": 1,
   "metadata": {
    "ExecuteTime": {
     "end_time": "2019-10-06T08:04:19.303634Z",
     "start_time": "2019-10-06T08:04:17.069653Z"
    }
   },
   "outputs": [
    {
     "name": "stdout",
     "output_type": "stream",
     "text": [
      "Ponto onde calcular a derivada (x0): 1\n"
     ]
    }
   ],
   "source": [
    "from pandas import DataFrame, Series\n",
    "\n",
    "import matplotlib.pyplot as plt\n",
    "import numpy as np\n",
    "%matplotlib inline  \n",
    "\n",
    "x0 = float(input('Ponto onde calcular a derivada (x0): '))\n",
    "\n",
    "deltas = [1e-2, 1e-4, 1e-6, 1e-8, 1e-10, 1e-12, 1e-14]\n",
    "\n",
    "def f(x): return x*(x-1)\n",
    "\n",
    "def diff_f(x, delta): return (f(x+delta)-f(x))/delta\n",
    "\n",
    "def deriv_f(x): return 2*x-1\n",
    "\n",
    "df_dx = [diff_f(x0, delta) for delta in deltas]\n",
    "\n",
    "DataFrame(\n",
    "    data=df_dx,\n",
    "    index=Series(data=deltas, name='delta'),\n",
    "    columns=['diferenca'],\n",
    ").to_csv(f'2-tabela_com_os_valores-x0={x0}.csv')"
   ]
  },
  {
   "cell_type": "code",
   "execution_count": 2,
   "metadata": {
    "ExecuteTime": {
     "end_time": "2019-10-06T08:04:19.802350Z",
     "start_time": "2019-10-06T08:04:19.305400Z"
    }
   },
   "outputs": [
    {
     "data": {
      "image/png": "[encoded data removed]",
      "text/plain": [
       "<Figure size 432x288 with 1 Axes>"
      ]
     },
     "metadata": {
      "needs_background": "light"
     },
     "output_type": "display_data"
    }
   ],
   "source": [
    "plt.xscale('log')\n",
    "plt.scatter(deltas, df_dx)\n",
    "plt.plot([deltas[0],deltas[-1]],[deriv_f(x0),deriv_f(x0)],'r')\n",
    "plt.xlabel('dx')\n",
    "plt.ylabel(f'df({x0})/dx')\n",
    "plt.savefig(f'3-grafico-x0={x0}.png')"
   ]
  }
 ],
 "metadata": {
  "kernelspec": {
   "display_name": "Python 3",
   "language": "python",
   "name": "python3"
  },
  "language_info": {
   "codemirror_mode": {
    "name": "ipython",
    "version": 3
   },
   "file_extension": ".py",
   "mimetype": "text/x-python",
   "name": "python",
   "nbconvert_exporter": "python",
   "pygments_lexer": "ipython3",
   "version": "3.7.2"
  }
 },
 "nbformat": 4,
 "nbformat_minor": 2
}
