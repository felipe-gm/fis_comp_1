{
 "cells": [
  {
   "cell_type": "markdown",
   "metadata": {},
   "source": [
    "# Fórmula para a altura de um satélite"
   ]
  },
  {
   "cell_type": "markdown",
   "metadata": {},
   "source": [
    "Supondo movimento circular uniforme para o sistema, a magnitude da força é dada por:\n",
    "\n",
    "\\begin{equation}\\label{fcp}\n",
    "F_{cp} = \\frac{mv^2}{r}\n",
    "\\end{equation}\n",
    "\n",
    "onde $m$ é a massa do corpo em movimento, $v$ sua velocidade e $r$ o raio da trajetória. Mas a força gravitacional entre 2 corpo é:\n",
    "\n",
    "\\begin{equation}\\label{fg}\n",
    "F_g = G \\frac{mM}{r^2}\n",
    "\\end{equation}\n",
    "Igualando \\eqref{fcp} com \\eqref{fg} obtemos:\n",
    "\n",
    "\\begin{equation*}\n",
    "\\frac{mv^2}{r} = G \\frac{mM}{r^2}\n",
    "\\end{equation*}\n",
    "\n",
    "Manipulando obtemos\n",
    "\n",
    "\\begin{equation*}\n",
    "r = G \\left( \\frac{MT^2}{4 \\pi ^2} \\right) ^{\\frac{1}{3}}\n",
    "\\end{equation*}\n",
    "\n",
    "Mas $r = h + R$, então:\n",
    "\n",
    "\\begin{equation}\n",
    "h = G \\left( \\frac{MT^2}{4 \\pi ^2} \\right) ^{\\frac{1}{3}} - R\n",
    "\\end{equation}"
   ]
  },
  {
   "cell_type": "markdown",
   "metadata": {},
   "source": [
    "# Programa dado T, calcula h"
   ]
  },
  {
   "cell_type": "code",
   "execution_count": 1,
   "metadata": {},
   "outputs": [
    {
     "name": "stdout",
     "output_type": "stream",
     "text": [
      "Um satélite deve ser lançado em uma órbita circular em torno da Terra, de forma que complete uma volta ao redor do planeta a cada T segundos.\n",
      "Digite valor desejado de T: 600\n",
      "A altitude correta em metros é:\n"
     ]
    },
    {
     "data": {
      "text/plain": [
       "-4119885.4211457036"
      ]
     },
     "execution_count": 1,
     "metadata": {},
     "output_type": "execute_result"
    }
   ],
   "source": [
    "# formula (3) em Latex:\n",
    "#     h = G \\left( \\frac{MT^2}{4 \\pi ^2} \\right) ^{\\frac{1}{3}} - R\n",
    "\n",
    "from math import pi\n",
    "\n",
    "G = 6.67e-11 # constante gravitacional de Newton em (m^2 kg^-1 s^-2)\n",
    "M = 5.97e24  # massa da Terra em (kg)\n",
    "R = 6371     # raio medio da Terra em (km)\n",
    "\n",
    "print('''Um satélite deve ser lançado em uma órbita circular em torno da\n",
    "Terra, de forma que complete uma volta ao redor do planeta a cada T\n",
    "segundos.''')\n",
    "T = int(input('Digite valor desejado de T: ')) \n",
    "\n",
    "R = R*1000 # correcao do raio medio da Terra para (m)\n",
    "\n",
    "print('A altitude correta em metros é:')\n",
    "(G*M*T**2/(4*pi))**(1/3) - R # aplicacao da fórmula (3)"
   ]
  },
  {
   "cell_type": "markdown",
   "metadata": {},
   "source": [
    "# Uso do programa"
   ]
  },
  {
   "cell_type": "code",
   "execution_count": 2,
   "metadata": {},
   "outputs": [],
   "source": [
    "def altitude(prosaico=True):\n",
    "    # formula (3) em Latex: h = G \\left( \\frac{MT^2}{4 \\pi ^2} \\right) ^{\\frac{1}{3}} - R\n",
    "\n",
    "    from math import pi\n",
    "\n",
    "    G = 6.67e-11 # constante gravitacional de Newton em (m^2 kg^-1 s^-2)\n",
    "    M = 5.97e24  # massa da Terra em (kg)\n",
    "    R = 6371     # raio medio da Terra em (km)\n",
    "    \n",
    "    if prosaico: \n",
    "        print('Um satélite deve ser lançado em uma órbita circular em torno da Terra, de forma que complete uma volta ao redor do planeta a cada T segundos.')\n",
    "    T = float(input('Digite valor desejado de T: ')) \n",
    "\n",
    "    R = R*1000 # correcao do raio medio da Terra para (m)\n",
    "\n",
    "    if prosaico: \n",
    "        print('A altitude correta em metros é:')\n",
    "    return (G*M*T**2/(4*pi))**(1/3) - R # aplicacao da fórmula (3)"
   ]
  },
  {
   "cell_type": "code",
   "execution_count": 3,
   "metadata": {},
   "outputs": [
    {
     "data": {
      "text/plain": [
       "86148.0"
      ]
     },
     "execution_count": 3,
     "metadata": {},
     "output_type": "execute_result"
    }
   ],
   "source": [
    "23.93*60*60 # calculo de quantos segundos tem uma órbita geossincrona"
   ]
  },
  {
   "cell_type": "code",
   "execution_count": 4,
   "metadata": {},
   "outputs": [
    {
     "name": "stdout",
     "output_type": "stream",
     "text": [
      "Um satélite deve ser lançado em uma órbita circular em torno da Terra, de forma que complete uma volta ao redor do planeta a cada T segundos.\n",
      "Digite valor desejado de T: 86148.0\n",
      "A altitude correta em metros é:\n"
     ]
    },
    {
     "data": {
      "text/plain": [
       "55353877.01157364"
      ]
     },
     "execution_count": 4,
     "metadata": {},
     "output_type": "execute_result"
    }
   ],
   "source": [
    "altitude()"
   ]
  },
  {
   "cell_type": "code",
   "execution_count": 5,
   "metadata": {},
   "outputs": [
    {
     "data": {
      "text/plain": [
       "5400"
      ]
     },
     "execution_count": 5,
     "metadata": {},
     "output_type": "execute_result"
    }
   ],
   "source": [
    "90*60 # calculo de quantos segundos tem em 90 min"
   ]
  },
  {
   "cell_type": "code",
   "execution_count": 6,
   "metadata": {},
   "outputs": [
    {
     "name": "stdout",
     "output_type": "stream",
     "text": [
      "Um satélite deve ser lançado em uma órbita circular em torno da Terra, de forma que complete uma volta ao redor do planeta a cada T segundos.\n",
      "Digite valor desejado de T: 5400\n",
      "A altitude correta em metros é:\n"
     ]
    },
    {
     "data": {
      "text/plain": [
       "3369007.1021960545"
      ]
     },
     "execution_count": 6,
     "metadata": {},
     "output_type": "execute_result"
    }
   ],
   "source": [
    "altitude()"
   ]
  },
  {
   "cell_type": "code",
   "execution_count": 7,
   "metadata": {},
   "outputs": [
    {
     "data": {
      "text/plain": [
       "2700"
      ]
     },
     "execution_count": 7,
     "metadata": {},
     "output_type": "execute_result"
    }
   ],
   "source": [
    "45*60 # calculo de quantos segundos tem em 45 min"
   ]
  },
  {
   "cell_type": "code",
   "execution_count": 8,
   "metadata": {},
   "outputs": [
    {
     "name": "stdout",
     "output_type": "stream",
     "text": [
      "Um satélite deve ser lançado em uma órbita circular em torno da Terra, de forma que complete uma volta ao redor do planeta a cada T segundos.\n",
      "Digite valor desejado de T: 2700\n",
      "A altitude correta em metros é:\n"
     ]
    },
    {
     "data": {
      "text/plain": [
       "-235180.0129088126"
      ]
     },
     "execution_count": 8,
     "metadata": {},
     "output_type": "execute_result"
    }
   ],
   "source": [
    "altitude()"
   ]
  },
  {
   "cell_type": "markdown",
   "metadata": {},
   "source": [
    "Observando os dois ultimos calculos conclue-se que entre 90 e 45 minutos está o limite para que o período de rotação tenha uma altura a cima da superfície média da terra."
   ]
  },
  {
   "cell_type": "markdown",
   "metadata": {},
   "source": [
    "# Porque não 24 horas"
   ]
  },
  {
   "cell_type": "markdown",
   "metadata": {},
   "source": [
    "O dia sideral é mais curto, em relação ao dia solar, pois não conta com a contribuição do movimento de translação da Terra ao redor do Sol.\n",
    "\n",
    "O dia solar é medido em termos da posição do Sol, que é um referencial não inercial no caso. Assim não podemos igualar (1) com (2) para resolver a altura do satélite geossincrono."
   ]
  },
  {
   "cell_type": "code",
   "execution_count": 9,
   "metadata": {},
   "outputs": [
    {
     "data": {
      "text/plain": [
       "86400"
      ]
     },
     "execution_count": 9,
     "metadata": {},
     "output_type": "execute_result"
    }
   ],
   "source": [
    "24*60*60 # calculo de quantos segundos tem uma órbita geossincrona"
   ]
  },
  {
   "cell_type": "code",
   "execution_count": 10,
   "metadata": {},
   "outputs": [
    {
     "data": {
      "text/plain": [
       "86148.0"
      ]
     },
     "execution_count": 10,
     "metadata": {},
     "output_type": "execute_result"
    }
   ],
   "source": [
    "23.93*60*60 # calculo de quantos segundos tem uma órbita geossincrona"
   ]
  },
  {
   "cell_type": "code",
   "execution_count": 11,
   "metadata": {},
   "outputs": [
    {
     "name": "stdout",
     "output_type": "stream",
     "text": [
      "Digite valor desejado de T: 86400\n",
      "Digite valor desejado de T: 86148.0\n"
     ]
    },
    {
     "data": {
      "text/plain": [
       "120313.06924135238"
      ]
     },
     "execution_count": 11,
     "metadata": {},
     "output_type": "execute_result"
    }
   ],
   "source": [
    "# diferenca na altitude em metros\n",
    "altitude(prosaico=False)-altitude(prosaico=False)"
   ]
  }
 ],
 "metadata": {
  "kernelspec": {
   "display_name": "'Python Interactive'",
   "language": "python",
   "name": "8a46d0c0-a5a4-450e-b366-dfd40c0cc2bb"
  },
  "language_info": {
   "codemirror_mode": {
    "name": "ipython",
    "version": 3
   },
   "file_extension": ".py",
   "mimetype": "text/x-python",
   "name": "python",
   "nbconvert_exporter": "python",
   "pygments_lexer": "ipython3",
   "version": "3.6.8"
  }
 },
 "nbformat": 4,
 "nbformat_minor": 4
}
