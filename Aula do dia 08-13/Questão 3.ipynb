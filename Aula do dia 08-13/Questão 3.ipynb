{
 "cells": [
  {
   "cell_type": "markdown",
   "metadata": {},
   "source": [
    "# Forma analítica de $v_2$"
   ]
  },
  {
   "cell_type": "markdown",
   "metadata": {},
   "source": [
    "Dado\n",
    "\n",
    "\\begin{equation*}\n",
    "v_2^2 - \\frac{2GM}{v_1 l_1}v_2 - \\left( v_1^2 - \\frac{2GM}{l_1} \\right) = 0\n",
    "\\end{equation*}\n",
    "\n",
    "obtemos \n",
    "\n",
    "\\begin{equation*}\n",
    "v_2 = \\frac{GM}{v_1 l_1} \\pm \\left| v_1 - \\frac{GM}{v_1 l_1} \\right|\n",
    "\\end{equation*}\n",
    "\n",
    "pela fórmula de Bhaskara. No caso, devemos eliminar o sinal para o qual $v_2 = v_1$. Pois, neste caso, ou estamos falando do mesmo ponto, ou de uma órbita em M.C.U. Ficamos, então, com:\n",
    "\n",
    "\n",
    "\\begin{equation}\n",
    "v_2 = 2\\frac{GM}{v_1 l_1} - v_1\n",
    "\\end{equation}"
   ]
  },
  {
   "cell_type": "markdown",
   "metadata": {},
   "source": [
    "# Cálculo de parâmetros de orbita"
   ]
  },
  {
   "cell_type": "code",
   "execution_count": 1,
   "metadata": {},
   "outputs": [
    {
     "name": "stdout",
     "output_type": "stream",
     "text": [
      "Valor da distancia ao Sol no perielio em metros: 1e11\n",
      "Valor da velocidade de translacao no perielio em\n",
      "m/s: 1e4\n",
      "l_2 = 3913938571.5075145m\n",
      "v_2 = 255497.1116m/s\n",
      "T = 6458485.3853744315s\n",
      "e = -0.924669613618501\n"
     ]
    }
   ],
   "source": [
    "from math import pi\n",
    "M = 1.9891e30\n",
    "G = 6.6738e-11\n",
    "\n",
    "l_1 = float(input('Valor da distancia ao Sol no perielio em metros: '))\n",
    "v_1 = float(input('''Valor da velocidade de translacao no perielio em\n",
    "m/s: '''))\n",
    "\n",
    "v_2 = 2*G*M/(v_1*l_1) - v_1\n",
    "l_2 = l_1*v_1/v_2\n",
    "\n",
    "a = (l_1+l_2)/2\n",
    "b = (l_1*l_2)**(1/2)\n",
    "\n",
    "T   = 2*pi*a*b/(l_1*v_1)\n",
    "e   = (l_2-l_1)/(l_2+l_1)\n",
    "\n",
    "print(f'l_2 = {l_2}m')\n",
    "print(f'v_2 = {v_2}m/s')\n",
    "print(f'T = {T}s')\n",
    "print(f'e = {e}')"
   ]
  },
  {
   "cell_type": "markdown",
   "metadata": {},
   "source": [
    "# Teste do calculo"
   ]
  },
  {
   "cell_type": "code",
   "execution_count": 2,
   "metadata": {},
   "outputs": [],
   "source": [
    "def apsis_parameters():\n",
    "    from math import pi\n",
    "    M = 1.9891e30\n",
    "    G = 6.6738e-11\n",
    "\n",
    "    l_1 = float(input('Valor da distancia ao Sol no perielio em metros: '))\n",
    "    v_1 = float(input('''Valor da velocidade de translacao no perielio em\n",
    "    m/s: '''))\n",
    "\n",
    "    v_2 = 2*G*M/(v_1*l_1) - v_1\n",
    "    l_2 = l_1*v_1/v_2\n",
    "\n",
    "    a = (l_1+l_2)/2\n",
    "    b = (l_1*l_2)**(1/2)\n",
    "\n",
    "    T   = 2*pi*a*b/(l_1*v_1)\n",
    "    e   = (l_2-l_1)/(l_2+l_1)\n",
    "\n",
    "    print(f'l_2 = {l_2}m')\n",
    "    print(f'v_2 = {v_2}m/s')\n",
    "    print(f'T = {T}s')\n",
    "    print(f'e = {e}')"
   ]
  },
  {
   "cell_type": "code",
   "execution_count": 3,
   "metadata": {},
   "outputs": [
    {
     "name": "stdout",
     "output_type": "stream",
     "text": [
      "Valor da distancia ao Sol no perielio em metros: 1.4710e11\n",
      "Valor da velocidade de translacao no perielio em\n",
      "    m/s: 3.0287e4\n",
      "l_2 = 152027197208.65976m\n",
      "v_2 = 29305.399177261308m/s\n",
      "T = 31543060.207886893s\n",
      "e = 0.016471913134741584\n"
     ]
    }
   ],
   "source": [
    "apsis_parameters()"
   ]
  },
  {
   "cell_type": "code",
   "execution_count": 4,
   "metadata": {},
   "outputs": [
    {
     "data": {
      "text/plain": [
       "1.0002238777234556"
      ]
     },
     "execution_count": 4,
     "metadata": {},
     "output_type": "execute_result"
    }
   ],
   "source": [
    "# teste para o periodo de translacao da Terra\n",
    "31543060.207886893/(60*60*24*365)"
   ]
  },
  {
   "cell_type": "code",
   "execution_count": 5,
   "metadata": {},
   "outputs": [
    {
     "name": "stdout",
     "output_type": "stream",
     "text": [
      "Valor da distancia ao Sol no perielio em metros: 8.7830e10\n",
      "Valor da velocidade de translacao no perielio em\n",
      "    m/s: 5.4529e4\n",
      "l_2 = 5282214660876.42m\n",
      "v_2 = 906.680696919153m/s\n",
      "T = 2399312511.845174s\n",
      "e = 0.967288912645406\n"
     ]
    }
   ],
   "source": [
    "apsis_parameters()"
   ]
  },
  {
   "cell_type": "code",
   "execution_count": 6,
   "metadata": {},
   "outputs": [
    {
     "data": {
      "text/plain": [
       "76.08170065465417"
      ]
     },
     "execution_count": 6,
     "metadata": {},
     "output_type": "execute_result"
    }
   ],
   "source": [
    "# teste para o periodo de translacao do cometa\n",
    "2399312511.845174/(60*60*24*365)"
   ]
  }
 ],
 "metadata": {
  "kernelspec": {
   "display_name": "'Python Interactive'",
   "language": "python",
   "name": "8a46d0c0-a5a4-450e-b366-dfd40c0cc2bb"
  },
  "language_info": {
   "codemirror_mode": {
    "name": "ipython",
    "version": 3
   },
   "file_extension": ".py",
   "mimetype": "text/x-python",
   "name": "python",
   "nbconvert_exporter": "python",
   "pygments_lexer": "ipython3",
   "version": "3.6.8"
  }
 },
 "nbformat": 4,
 "nbformat_minor": 2
}
