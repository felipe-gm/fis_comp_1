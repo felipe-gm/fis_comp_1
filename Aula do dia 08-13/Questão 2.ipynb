{
 "cells": [
  {
   "cell_type": "code",
   "execution_count": 1,
   "metadata": {},
   "outputs": [
    {
     "name": "stdout",
     "output_type": "stream",
     "text": [
      "A probabilidade de tranmissao e: 0.7301261363877615\n",
      "A probabilidade de reflexao e: 0.26987386361223825\n"
     ]
    }
   ],
   "source": [
    "from math import pi\n",
    "h = 4.135667662e-15 # constante de Planck em (eV s)\n",
    "\n",
    "m     = 9.11e-31 # massa do eletron em kg\n",
    "E     = 10       # energia do eletron em eV\n",
    "h_bar = h/(2*pi) # constante reduzida de Planck\n",
    "V     = 9        # barreira potencial em eV\n",
    "\n",
    "k_1 = (2*m*E)**(1/2) / h_bar\n",
    "k_2 = (2*m*(E-V))**(1/2) / h_bar\n",
    "\n",
    "T = 4*k_1*k_2/((k_1+k_2)**2)\n",
    "R = ((k_1-k_2)/(k_1+k_2))**2\n",
    "\n",
    "print(f'A probabilidade de tranmissao e: {T}')\n",
    "print(f'A probabilidade de reflexao e: {R}')"
   ]
  }
 ],
 "metadata": {
  "kernelspec": {
   "display_name": "'Python Interactive'",
   "language": "python",
   "name": "8a46d0c0-a5a4-450e-b366-dfd40c0cc2bb"
  },
  "language_info": {
   "codemirror_mode": {
    "name": "ipython",
    "version": 3
   },
   "file_extension": ".py",
   "mimetype": "text/x-python",
   "name": "python",
   "nbconvert_exporter": "python",
   "pygments_lexer": "ipython3",
   "version": "3.6.8"
  }
 },
 "nbformat": 4,
 "nbformat_minor": 2
}
