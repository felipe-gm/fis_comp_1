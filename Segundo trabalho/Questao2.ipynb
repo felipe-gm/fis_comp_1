{
 "cells": [
  {
   "cell_type": "code",
   "execution_count": 1,
   "metadata": {
    "ExecuteTime": {
     "end_time": "2019-10-06T05:14:31.874496Z",
     "start_time": "2019-10-06T05:14:31.811571Z"
    }
   },
   "outputs": [
    {
     "data": {
      "text/html": [
       "<div id=\"glowscript\" class=\"glowscript\"></div>"
      ],
      "text/plain": [
       "<IPython.core.display.HTML object>"
      ]
     },
     "metadata": {},
     "output_type": "display_data"
    },
    {
     "data": {
      "application/javascript": [
       "if (typeof Jupyter !== \"undefined\") { window.__context = { glowscript_container: $(\"#glowscript\").removeAttr(\"id\")};}else{ element.textContent = ' ';}"
      ],
      "text/plain": [
       "<IPython.core.display.Javascript object>"
      ]
     },
     "metadata": {},
     "output_type": "display_data"
    }
   ],
   "source": [
    "from vpython import vector, sphere, rate, cylinder, color, canvas\n",
    "from math import cos, sin, pi\n",
    "from numpy import arange"
   ]
  },
  {
   "cell_type": "markdown",
   "metadata": {},
   "source": [
    "# Padrao de cores mostrado no video"
   ]
  },
  {
   "cell_type": "code",
   "execution_count": 2,
   "metadata": {
    "ExecuteTime": {
     "end_time": "2019-10-06T05:14:31.884767Z",
     "start_time": "2019-10-06T05:14:31.876120Z"
    }
   },
   "outputs": [],
   "source": [
    "color_map = [\n",
    "    color.red, color.orange, color.yellow, color.green, color.blue, color.purple,\n",
    "    color.red, color.orange, color.yellow, color.green, color.blue, color.purple,\n",
    "    color.red, color.orange, color.yellow\n",
    "]"
   ]
  },
  {
   "cell_type": "markdown",
   "metadata": {},
   "source": [
    "# Calculos para o comprimento de cada pendulo"
   ]
  },
  {
   "cell_type": "markdown",
   "metadata": {},
   "source": [
    "A equacao diferencial que representa o movimento de um pendulo simples é\n",
    "\\begin{equation}\n",
    "\\frac{d^2 \\theta}{dt^2} + \\frac{g}{l} \\sin \\theta = 0 \\label{diffeq}\n",
    "\\end{equation}\n",
    "onde $g$ e a aceleracao da gravidade, $l$ e o cumprimento do pendulo, e $\\theta$ é o deslocamento angular.\n",
    "\n",
    "A equacao \\ref{diffeq} nao e facil de resolver, e nao tem solucao em termos de funcoes elementares. Nao obstante, adiconando uma restricao a amplitudo do oscilador resulta numa forma cuja solucao pode ser obtida facilmente. Se for assumido que o angulo e muito pequeno, entao substituindo por $\\sin \\theta$ na equacao \\ref{diffeq} usando a aproximacao de pequenos angulos,\n",
    "\\begin{equation*}\n",
    "\\sin \\theta \\approx \\theta\n",
    "\\end{equation*}\n",
    "proporciona a equacao do oscilador harmonico\n",
    "\\begin{equation*}\n",
    "\\frac{d^2 \\theta}{dt^2} + \\frac{g}{l} \\theta = 0\n",
    "\\end{equation*}\n",
    "\n",
    "Dadas as condicoes iniciais $\\theta \\left( 0 \\right) = \\Theta$ e e $\\frac{d \\theta}{dt} \\left( 0 \\right) = 0$, a solucao para o $n$-esimo pendulo se torna\n",
    "\\begin{equation*}\n",
    "\\theta _n \\left( t \\right) = \\Theta \\cos \\left( \\omega _n t \\right)\n",
    "\\end{equation*}\n",
    "com\n",
    "\\begin{equation}\n",
    "\\omega _n = \\sqrt{\\frac{g}{l _n}}\n",
    "\\end{equation}\n",
    "dado que\n",
    "\\begin{equation}\n",
    "\\omega _n = 2 \\pi freq_n\n",
    "\\end{equation}"
   ]
  },
  {
   "cell_type": "code",
   "execution_count": 3,
   "metadata": {
    "ExecuteTime": {
     "end_time": "2019-10-06T05:15:33.601383Z",
     "start_time": "2019-10-06T05:14:31.887482Z"
    }
   },
   "outputs": [
    {
     "data": {
      "text/html": [
       "<div id=\"glowscript\" class=\"glowscript\"></div>"
      ],
      "text/plain": [
       "<IPython.core.display.HTML object>"
      ]
     },
     "metadata": {},
     "output_type": "display_data"
    },
    {
     "data": {
      "application/javascript": [
       "if (typeof Jupyter !== \"undefined\") { window.__context = { glowscript_container: $(\"#glowscript\").removeAttr(\"id\")};}else{ element.textContent = ' ';}"
      ],
      "text/plain": [
       "<IPython.core.display.Javascript object>"
      ]
     },
     "metadata": {},
     "output_type": "display_data"
    },
    {
     "data": {
      "application/javascript": [
       "if (typeof Jupyter !== \"undefined\") {require.undef(\"nbextensions/vpython_libraries/glow.min\");}else{element.textContent = ' ';}"
      ],
      "text/plain": [
       "<IPython.core.display.Javascript object>"
      ]
     },
     "metadata": {},
     "output_type": "display_data"
    },
    {
     "data": {
      "application/javascript": [
       "if (typeof Jupyter !== \"undefined\") {require.undef(\"nbextensions/vpython_libraries/glowcomm\");}else{element.textContent = ' ';}"
      ],
      "text/plain": [
       "<IPython.core.display.Javascript object>"
      ]
     },
     "metadata": {},
     "output_type": "display_data"
    },
    {
     "data": {
      "application/javascript": [
       "if (typeof Jupyter !== \"undefined\") {require.undef(\"nbextensions/vpython_libraries/jquery-ui.custom.min\");}else{element.textContent = ' ';}"
      ],
      "text/plain": [
       "<IPython.core.display.Javascript object>"
      ]
     },
     "metadata": {},
     "output_type": "display_data"
    },
    {
     "data": {
      "application/javascript": [
       "if (typeof Jupyter !== \"undefined\") {require([\"nbextensions/vpython_libraries/glow.min\"], function(){console.log(\"GLOW LOADED\");});}else{element.textContent = ' ';}"
      ],
      "text/plain": [
       "<IPython.core.display.Javascript object>"
      ]
     },
     "metadata": {},
     "output_type": "display_data"
    },
    {
     "data": {
      "application/javascript": [
       "if (typeof Jupyter !== \"undefined\") {require([\"nbextensions/vpython_libraries/glowcomm\"], function(){console.log(\"GLOWCOMM LOADED\");});}else{element.textContent = ' ';}"
      ],
      "text/plain": [
       "<IPython.core.display.Javascript object>"
      ]
     },
     "metadata": {},
     "output_type": "display_data"
    },
    {
     "data": {
      "application/javascript": [
       "if (typeof Jupyter !== \"undefined\") {require([\"nbextensions/vpython_libraries/jquery-ui.custom.min\"], function(){console.log(\"JQUERY LOADED\");});}else{element.textContent = ' ';}"
      ],
      "text/plain": [
       "<IPython.core.display.Javascript object>"
      ]
     },
     "metadata": {},
     "output_type": "display_data"
    }
   ],
   "source": [
    "per = 60 # segundos\n",
    "freq_ls = [osc/per for osc in range(51, 66)]\n",
    "\n",
    "# Constantes\n",
    "R_esfera = 1e-2\n",
    "R_fio = 1e-3\n",
    "g = 9.8\n",
    "omega = [2*pi*f for f in freq_ls] #eq. 3\n",
    "L_fio = [g/w**2 for w in omega] # eq. 2\n",
    "tmax = per\n",
    "fps = 30\n",
    "dt = 1/fps\n",
    "\n",
    "# Objetos\n",
    "A = 6*pi/180\n",
    "theta = [A for _ in range(15)]\n",
    "x = [ L_fio[i]*sin(theta[i]) for i in range(15)]\n",
    "y = [-L_fio[i]*cos(theta[i]) for i in range(15)]\n",
    "\n",
    "scene = canvas()\n",
    "scene.autoscale = False\n",
    "\n",
    "esferas = [\n",
    "    sphere(\n",
    "        canvas=scene,\n",
    "        radius=R_esfera,\n",
    "        color=color_map[i],\n",
    "        pos=vector(x[i],y[i],i)\n",
    "    ) for i in range(15)\n",
    "]\n",
    "fio = [cylinder(\n",
    "    canvas=scene,\n",
    "    radius=R_fio,\n",
    "    axis=esfera.pos\n",
    ") for esfera in esferas]\n",
    "\n",
    "# Laco da animacao\n",
    "for t in arange(0, tmax, dt):\n",
    "    rate(fps)\n",
    "\n",
    "    for i in range(15):\n",
    "        theta[i] = A*cos(omega[i]*t)\n",
    "        x[i], y[i] = L_fio[i]*sin(theta[i]), -L_fio[i]*cos(theta[i])\n",
    "        esferas[i].pos = vector(x[i],y[i],i*R_esfera*3)\n",
    "        fio[i].pos = vector(0,0,i*R_esfera*3)\n",
    "        fio[i].axis = vector(x[i],y[i],0)\n",
    "        \n",
    "    # angulo semelhante\n",
    "    scene.camera.pos = vector(0, -L_fio[0], 0.55)\n",
    "    scene.camera.axis = vector(0, .5, -1)"
   ]
  },
  {
   "cell_type": "markdown",
   "metadata": {},
   "source": [
    "# Modificacoes para periodo do video"
   ]
  },
  {
   "cell_type": "markdown",
   "metadata": {},
   "source": [
    "Para o script proposto acima, basta alterar o valor da variavel $per$ para modificar a duracao do periodo da danca em segundos."
   ]
  },
  {
   "cell_type": "markdown",
   "metadata": {},
   "source": [
    "# Outras combinacoes que produzem a danca"
   ]
  },
  {
   "cell_type": "markdown",
   "metadata": {},
   "source": [
    "O aluno entende que o fenomeno da \"danca\", trata-se da manifestacao de batimento em osciladores de frequencias comensuraveis, que determinam harmonicos da frequencia do sistema (no caso, 60 segundos, ou 100 no video). Sendo assim, eh possivel dizer que ha outras configuracoes que compoem uma \"danca\", a denpender das harmonia entre as frequencias que participam do sistema."
   ]
  }
 ],
 "metadata": {
  "kernelspec": {
   "display_name": "VPython",
   "language": "python",
   "name": "vpython"
  },
  "language_info": {
   "codemirror_mode": {
    "name": "ipython",
    "version": 3
   },
   "file_extension": ".py",
   "mimetype": "text/x-python",
   "name": "python",
   "nbconvert_exporter": "python",
   "pygments_lexer": "ipython3",
   "version": "3.7.2"
  }
 },
 "nbformat": 4,
 "nbformat_minor": 2
}
