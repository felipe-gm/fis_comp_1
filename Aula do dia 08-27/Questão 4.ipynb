{
 "cells": [
  {
   "cell_type": "code",
   "execution_count": 1,
   "metadata": {
    "ExecuteTime": {
     "end_time": "2019-09-09T22:52:57.293840Z",
     "start_time": "2019-09-09T22:52:57.288444Z"
    }
   },
   "outputs": [
    {
     "name": "stdout",
     "output_type": "stream",
     "text": [
      "\n",
      "Para v0=10 m/s e alpha=30 graus os resultados sao:\n",
      "    R = 7.66368583008094 m\n",
      "e\n",
      "    H = 1.2772809716801565 m\n",
      "    \n"
     ]
    }
   ],
   "source": [
    "def R_H(v0=10, alpha=30):\n",
    "    '''\n",
    "R_H(v0=10, alpha=30)\n",
    "\n",
    "Calcula em unidades do S.I. o alcance (R) e a altura maxima (H) de um\n",
    "projetil lancado a partir do solo, em um terreno horizontal, desprezando\n",
    "a resistencia do ar e a curvatura da Terra.\n",
    "\n",
    "    H = (v0*sin(alpha))**2 / (2*g)\n",
    "    \n",
    "    R = (v0*sin(2*alpha))**2 / g\n",
    "\n",
    "Parameters\n",
    "----------\n",
    "v0: float\n",
    "    Magnitude da velocidade de lancamento, em m/s.\n",
    "alpha: float\n",
    "    Angulo de lancamento em graus.\n",
    "    \n",
    "Returns\n",
    "-------\n",
    "y : tuple (float, float)\n",
    "    Em unidades do SI, y[0] o alcance R e y[1] a maxima altura H de um\n",
    "    projetil lancado a partir do solo, em um terreno horizontal,\n",
    "    desprezando a resistencia do ar e a curvatura da Terra.\n",
    "\n",
    "Notes\n",
    "-----\n",
    "https://alunosonline.uol.com.br/fisica/lancamento-obliquo.html\n",
    "https://www.iag.usp.br/~eder/agg0115/o_campo_de_gravidade_terrestre_AGG0115_2019.pdf\n",
    "\n",
    "Examples\n",
    "--------\n",
    "Print sine of one angle:\n",
    "\n",
    ">>> R_H()\n",
    "(7.66368583008094, 1.2772809716801565)\n",
    "    '''\n",
    "    from math import pi, sin\n",
    "    \n",
    "    g = 9.7864137\n",
    "    alpha = alpha*pi/180\n",
    "    \n",
    "    return (v0*sin(2*alpha))**2/g, (v0*sin(alpha))**2/(2*g)\n",
    "\n",
    "print(f'''\n",
    "Para v0=10 m/s e alpha=30 graus os resultados sao:\n",
    "    R = {R_H(v0=10, alpha=30)[0]} m\n",
    "e\n",
    "    H = {R_H()[1]} m\n",
    "    ''')"
   ]
  }
 ],
 "metadata": {
  "kernelspec": {
   "display_name": "'Python Interactive'",
   "language": "python",
   "name": "8a46d0c0-a5a4-450e-b366-dfd40c0cc2bb"
  },
  "language_info": {
   "codemirror_mode": {
    "name": "ipython",
    "version": 3
   },
   "file_extension": ".py",
   "mimetype": "text/x-python",
   "name": "python",
   "nbconvert_exporter": "python",
   "pygments_lexer": "ipython3",
   "version": "3.6.8"
  }
 },
 "nbformat": 4,
 "nbformat_minor": 2
}
