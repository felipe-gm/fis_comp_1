{
 "cells": [
  {
   "cell_type": "code",
   "execution_count": 1,
   "metadata": {
    "ExecuteTime": {
     "end_time": "2019-09-10T02:53:15.668979Z",
     "start_time": "2019-09-10T02:53:15.585243Z"
    }
   },
   "outputs": [],
   "source": [
    "from numpy import loadtxt\n",
    "\n",
    "x = loadtxt('similaridade_Terra.txt')\n",
    "\n",
    "w = [0.57, 1.07, 0.7, 5.58]\n",
    "\n",
    "corpos_celestes = [\n",
    "    'Terra',\n",
    "    'Marte',\n",
    "    'Mercurio',\n",
    "    'Lua',\n",
    "    'Venus',\n",
    "    'Io',\n",
    "    'Jupiter',\n",
    "    'Tita',\n",
    "    'GJ 581 g',\n",
    "    'GJ 581 b',\n",
    "    'HD 96167 b',\n",
    "    'WASP-26 b'\n",
    "]\n",
    "\n",
    "IST = {}\n",
    "\n",
    "for j in range(len(corpos_celestes)):\n",
    "    ISTj = 1\n",
    "    for i in range(len(w)):\n",
    "        ISTj *= (1 - abs((x[j][i]-x[0][i])/(x[j][i]+x[0][i])))**(w[i]/len(w))\n",
    "    \n",
    "    IST[corpos_celestes[j]] = ISTj"
   ]
  },
  {
   "cell_type": "code",
   "execution_count": 2,
   "metadata": {
    "ExecuteTime": {
     "end_time": "2019-09-10T02:53:15.684989Z",
     "start_time": "2019-09-10T02:53:15.671330Z"
    }
   },
   "outputs": [
    {
     "data": {
      "text/plain": [
       "{'Terra': 1.0,\n",
       " 'Marte': 0.6967437770068843,\n",
       " 'Mercurio': 0.5952280054357734,\n",
       " 'Lua': 0.5574048710057411,\n",
       " 'Venus': 0.44416899132028365,\n",
       " 'Io': 0.36252129797707083,\n",
       " 'Jupiter': 0.29298061349188215,\n",
       " 'Tita': 0.24260676606490955,\n",
       " 'GJ 581 g': 0.8903703266879102,\n",
       " 'GJ 581 b': 0.4829174057109495,\n",
       " 'HD 96167 b': 0.46536207433211974,\n",
       " 'WASP-26 b': 0.09382421442571512}"
      ]
     },
     "execution_count": 2,
     "metadata": {},
     "output_type": "execute_result"
    }
   ],
   "source": [
    "print(IST)\n",
    "print()"
   ]
  },
  {
   "cell_type": "code",
   "execution_count": 3,
   "metadata": {
    "ExecuteTime": {
     "end_time": "2019-09-10T02:53:15.741283Z",
     "start_time": "2019-09-10T02:53:15.687589Z"
    }
   },
   "outputs": [
    {
     "name": "stdout",
     "output_type": "stream",
     "text": [
      "\n",
      "O corpo celeste mais semelhante a Terra eh:\n",
      "GJ 581 g\n",
      "\n"
     ]
    }
   ],
   "source": [
    "print(f'''\n",
    "O corpo celeste mais semelhante a Terra eh:\n",
    "{sorted(IST, key=IST.get, reverse=True)[1]}\n",
    "''')"
   ]
  }
 ],
 "metadata": {
  "kernelspec": {
   "display_name": "'Python Interactive'",
   "language": "python",
   "name": "8a46d0c0-a5a4-450e-b366-dfd40c0cc2bb"
  },
  "language_info": {
   "codemirror_mode": {
    "name": "ipython",
    "version": 3
   },
   "file_extension": ".py",
   "mimetype": "text/x-python",
   "name": "python",
   "nbconvert_exporter": "python",
   "pygments_lexer": "ipython3",
   "version": "3.6.8"
  }
 },
 "nbformat": 4,
 "nbformat_minor": 2
}
