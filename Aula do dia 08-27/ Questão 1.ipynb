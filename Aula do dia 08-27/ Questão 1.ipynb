{
 "cells": [
  {
   "cell_type": "code",
   "execution_count": 1,
   "metadata": {
    "ExecuteTime": {
     "end_time": "2019-09-09T16:22:55.618674Z",
     "start_time": "2019-09-09T16:22:10.376513Z"
    }
   },
   "outputs": [
    {
     "name": "stdout",
     "output_type": "stream",
     "text": [
      "A constante de Madelung para o cloreto de sódio é: -1.7475645945934088\n"
     ]
    }
   ],
   "source": [
    "def particle_M_contrib(i,j,k):\n",
    "    \"\"\"\n",
    "    https://en.wikipedia.org/wiki/Madelung_constant\n",
    "    \"\"\"\n",
    "    if i==0 and j==0 and k==0: return 0\n",
    "    \n",
    "    return ( (-1)**(i+j+k) ) / ( ((i**2) + (j**2) + (k**2))**(1/2) )\n",
    "\n",
    "L = 175\n",
    "\n",
    "M = 0\n",
    "for i in range(-L, L):\n",
    "    for j in range(-L, L):\n",
    "        for k in range(-L, L):\n",
    "            M+=particle_M_contrib(i,j,k)\n",
    "            \n",
    "print(f'A constante de Madelung para o cloreto de sódio é: {M}')"
   ]
  }
 ],
 "metadata": {
  "kernelspec": {
   "display_name": "'Python Interactive'",
   "language": "python",
   "name": "8a46d0c0-a5a4-450e-b366-dfd40c0cc2bb"
  },
  "language_info": {
   "codemirror_mode": {
    "name": "ipython",
    "version": 3
   },
   "file_extension": ".py",
   "mimetype": "text/x-python",
   "name": "python",
   "nbconvert_exporter": "python",
   "pygments_lexer": "ipython3",
   "version": "3.6.8"
  }
 },
 "nbformat": 4,
 "nbformat_minor": 2
}
