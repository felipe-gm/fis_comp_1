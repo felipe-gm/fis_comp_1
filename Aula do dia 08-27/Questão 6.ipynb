{
 "cells": [
  {
   "cell_type": "code",
   "execution_count": 1,
   "metadata": {
    "ExecuteTime": {
     "end_time": "2019-09-10T03:04:56.934850Z",
     "start_time": "2019-09-10T03:04:56.931188Z"
    }
   },
   "outputs": [],
   "source": [
    "def fatorial_dupla(n):\n",
    "    if n<=1: return 1\n",
    "    else:    return n*fatorial_dupla(n-2)"
   ]
  },
  {
   "cell_type": "code",
   "execution_count": 2,
   "metadata": {
    "ExecuteTime": {
     "end_time": "2019-09-10T03:04:57.012953Z",
     "start_time": "2019-09-10T03:04:56.939023Z"
    }
   },
   "outputs": [
    {
     "name": "stdout",
     "output_type": "stream",
     "text": [
      "1!! = 1\n",
      "2!! = 2\n",
      "3!! = 3\n",
      "4!! = 8\n",
      "5!! = 15\n",
      "6!! = 48\n",
      "7!! = 105\n",
      "8!! = 384\n",
      "9!! = 945\n",
      "10!! = 3840\n",
      "11!! = 10395\n",
      "12!! = 46080\n",
      "13!! = 135135\n",
      "14!! = 645120\n",
      "15!! = 2027025\n",
      "16!! = 10321920\n",
      "17!! = 34459425\n",
      "18!! = 185794560\n",
      "19!! = 654729075\n",
      "20!! = 3715891200\n"
     ]
    }
   ],
   "source": [
    "for n in range(20):\n",
    "    print(f'{n+1}!! = {fatorial_dupla(n+1)}')"
   ]
  }
 ],
 "metadata": {
  "kernelspec": {
   "display_name": "'Python Interactive'",
   "language": "python",
   "name": "8a46d0c0-a5a4-450e-b366-dfd40c0cc2bb"
  },
  "language_info": {
   "codemirror_mode": {
    "name": "ipython",
    "version": 3
   },
   "file_extension": ".py",
   "mimetype": "text/x-python",
   "name": "python",
   "nbconvert_exporter": "python",
   "pygments_lexer": "ipython3",
   "version": "3.6.8"
  }
 },
 "nbformat": 4,
 "nbformat_minor": 2
}
