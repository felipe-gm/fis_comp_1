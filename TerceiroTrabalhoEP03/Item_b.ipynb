{
 "cells": [
  {
   "cell_type": "markdown",
   "metadata": {},
   "source": [
    "# Definicoes preliminares"
   ]
  },
  {
   "cell_type": "code",
   "execution_count": 1,
   "metadata": {
    "ExecuteTime": {
     "end_time": "2019-11-05T05:51:21.315176Z",
     "start_time": "2019-11-05T05:51:21.308483Z"
    }
   },
   "outputs": [],
   "source": [
    "def I_polar(r, lmbd=400e-9):\n",
    "    \"\"\"Gives light intensity of a circular diffraction pattern\n",
    "    I(r) = (J1(kr)/(kr))^2\n",
    "    r for distance from center of focal plane, k=2*pi/lmbd nd J1 is Bessel's\n",
    "    function of order 1.\n",
    "    \n",
    "    Positional arguments:\n",
    "    r -- distance from center of focal plane (type float)\n",
    "    \n",
    "    Keyword arguments:\n",
    "    lmbd -- light wavelenght (default 400e-9)\n",
    "    \"\"\"\n",
    "    from Item_a import bessel\n",
    "    from math   import pi\n",
    "    \n",
    "    k = 2*pi/lmbd\n",
    "    \n",
    "    return (bessel(k*r,1)/(k*r))**2\n",
    "\n",
    "\n",
    "def I_cartesian(x, y, lmbd=400e-9):\n",
    "    \"\"\"Cartesian wraper for I(r) assuming (0, 0) as center of focal plane.\n",
    "    \n",
    "    Positional arguments:\n",
    "    x, y -- cartesian coordinates (type float, float)\n",
    "    \"\"\"\n",
    "    return I_polar((x**2+y**2)**(1/2), lmbd)"
   ]
  },
  {
   "cell_type": "markdown",
   "metadata": {},
   "source": [
    "# Script"
   ]
  },
  {
   "cell_type": "code",
   "execution_count": 3,
   "metadata": {
    "ExecuteTime": {
     "end_time": "2019-11-05T05:51:35.802455Z",
     "start_time": "2019-11-05T05:51:34.849993Z"
    }
   },
   "outputs": [
    {
     "data": {
      "image/png": "[encoded data removed]",
      "text/plain": [
       "<Figure size 432x288 with 1 Axes>"
      ]
     },
     "metadata": {
      "needs_background": "light"
     },
     "output_type": "display_data"
    }
   ],
   "source": [
    "def main(log_scaling=False, lmbd=400e-9):\n",
    "    from numpy import linspace\n",
    "    from pylab import imshow, hot, show\n",
    "    from math import log\n",
    "\n",
    "    # \"...gerar a intensidade da luz no padrao de difracao circular...\"\n",
    "    data = []\n",
    "    for x in linspace(-1e-6, 1e-6, 100):\n",
    "        Y = []\n",
    "\n",
    "        for y in linspace(-1e-6, 1e-6, 100):\n",
    "            if log_scaling: Y.append(log(I_cartesian(x, y, lmbd=lmbd)))\n",
    "            else: Y.append(I_cartesian(x, y, lmbd=lmbd))\n",
    "        \n",
    "        data.append(Y)\n",
    "        \n",
    "    imshow(data) # \"...fazer o grafico...\"\n",
    "    hot() # \"...com o esquema de cores \"hot\"...\"\n",
    "    show()\n",
    "\n",
    "if __name__ == \"__main__\":\n",
    "    main()"
   ]
  }
 ],
 "metadata": {
  "kernelspec": {
   "display_name": "Python 3",
   "language": "python",
   "name": "python3"
  },
  "language_info": {
   "codemirror_mode": {
    "name": "ipython",
    "version": 3
   },
   "file_extension": ".py",
   "mimetype": "text/x-python",
   "name": "python",
   "nbconvert_exporter": "python",
   "pygments_lexer": "ipython3",
   "version": "3.7.2"
  }
 },
 "nbformat": 4,
 "nbformat_minor": 2
}
