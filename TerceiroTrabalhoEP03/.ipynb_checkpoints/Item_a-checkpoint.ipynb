{
 "cells": [
  {
   "cell_type": "markdown",
   "metadata": {},
   "source": [
    "## Definicoes"
   ]
  },
  {
   "cell_type": "markdown",
   "metadata": {},
   "source": [
    "### Metodos de integracao"
   ]
  },
  {
   "cell_type": "code",
   "execution_count": 1,
   "metadata": {
    "ExecuteTime": {
     "end_time": "2019-11-05T03:19:05.757763Z",
     "start_time": "2019-11-05T03:19:05.745502Z"
    }
   },
   "outputs": [],
   "source": [
    "from math import pi\n",
    "\n",
    "def finite_integration(f, frm=0.0, to=pi, method='simpson', N=60):\n",
    "    \"\"\"Calculates finite integration of a function (f) inside given interval\n",
    "    by either Simpson method or Gaussian quadrature\n",
    "    \n",
    "    Positional arguments:\n",
    "    f -- function to integrate (type function)\n",
    "    \n",
    "    Keyword arguments:\n",
    "    frm -- lower bound of integration (default 0.0)\n",
    "    to -- upper bound of integration (default pi)\n",
    "    method -- method of numeric integration to run [options 'simpson',\n",
    "    'gauss'] (default 'gauss')\n",
    "    n -- number of samples to use (defualt 60)\n",
    "    \"\"\"\n",
    "    \n",
    "    # Simpson method case\n",
    "    if method=='simpson':\n",
    "        terms = [] # to feed with simpsons formula sum terms\n",
    "        delta_x = (to-frm)/N\n",
    "        \n",
    "        # 1st term caculation\n",
    "        terms.append(delta_x*(f(frm)+f(to))/3)\n",
    "        \n",
    "        # 2nd term caculation\n",
    "        s, k= 0.0, 1\n",
    "        while k<=N-1:\n",
    "            s += f(frm + k*delta_x)\n",
    "            k += 2\n",
    "        terms.append(4*delta_x*s/3)\n",
    "        \n",
    "        # 3rd term caculation\n",
    "        s, k= 0.0, 2\n",
    "        while k<=N-2:\n",
    "            s += f(frm + k*delta_x)\n",
    "            k += 2\n",
    "        terms.append(2*delta_x*s/3)\n",
    "        \n",
    "        return sum(terms)\n",
    "    \n",
    "    # Gaussian quadrature case\n",
    "    if method=='gauss':\n",
    "        from gaussxw import gaussxwab\n",
    "        \n",
    "        # Calculates os samples nd weights inside [frm, to] interval\n",
    "        x, w = gaussxwab(N, frm, to)\n",
    "        \n",
    "        # Does summation\n",
    "        s = 0.0\n",
    "        for k in range(N):\n",
    "            s += w[k] * f(x[k])\n",
    "            \n",
    "        return s"
   ]
  },
  {
   "cell_type": "markdown",
   "metadata": {},
   "source": [
    "## Funcao de Bessel"
   ]
  },
  {
   "cell_type": "code",
   "execution_count": 2,
   "metadata": {
    "ExecuteTime": {
     "end_time": "2019-11-05T03:19:05.841304Z",
     "start_time": "2019-11-05T03:19:05.762507Z"
    }
   },
   "outputs": [],
   "source": [
    "def bessel(x, m, meth_int='simpson'):\n",
    "    \"\"\"Calculates m-order Bessel's function, valuated on x by given method of\n",
    "    integration (meth_int)\n",
    "        \n",
    "    Positional arguments:\n",
    "    x -- point to evaluate m-order Bessel's function (type float)\n",
    "    m -- order of Bessel's function to calculate (type int)\n",
    "    \n",
    "    Keyword arguments:\n",
    "    meth_int -- method of numeric integration to run [options 'simpson',\n",
    "    'gauss'] (default 'gauss')\n",
    "    \"\"\"\n",
    "    \n",
    "    from math import pi\n",
    "    \n",
    "    def integrand(theta):\n",
    "        from math import cos, sin\n",
    "        return cos(m*theta - x*sin(theta))\n",
    "    \n",
    "    return finite_integration(integrand, method=meth_int)/pi"
   ]
  },
  {
   "cell_type": "markdown",
   "metadata": {},
   "source": [
    "# Calcular"
   ]
  },
  {
   "cell_type": "code",
   "execution_count": 3,
   "metadata": {
    "ExecuteTime": {
     "end_time": "2019-11-05T03:19:06.653212Z",
     "start_time": "2019-11-05T03:19:05.844233Z"
    }
   },
   "outputs": [],
   "source": [
    "from numpy import linspace\n",
    "\n",
    "x = linspace(0, 20, 100)\n",
    "J = [{'simpson': [], 'gauss': []} for dummy in range(3)]\n",
    "\n",
    "for t in x:  # \"para x variando de 0 a 20, com 100 pontos\"\n",
    "    for idx, jn in enumerate(J): # para J0(x), J1(x) e J2(x)\n",
    "        for key in jn: # \"com o metodo de Simpson e de quadratura Gaussiana.\"\n",
    "            jn[key].append(bessel(t, idx, meth_int=key)) # calcular"
   ]
  },
  {
   "cell_type": "markdown",
   "metadata": {},
   "source": [
    "# Graficar"
   ]
  },
  {
   "cell_type": "code",
   "execution_count": 4,
   "metadata": {
    "ExecuteTime": {
     "end_time": "2019-11-05T03:19:06.848738Z",
     "start_time": "2019-11-05T03:19:06.654567Z"
    },
    "scrolled": true
   },
   "outputs": [
    {
     "data": {
      "text/plain": [
       "<Figure size 640x480 with 1 Axes>"
      ]
     },
     "metadata": {},
     "output_type": "display_data"
    }
   ],
   "source": [
    "def main():\n",
    "    from pylab import xlabel, ylabel, plot, legend, show\n",
    "\n",
    "    xlabel('x')\n",
    "    ylabel('Jm(x)')\n",
    "    color_schema = [\n",
    "        {'simpson': 'r', 'gauss': 'r'},\n",
    "        {'simpson': 'g', 'gauss': 'g'},\n",
    "        {'simpson': 'b', 'gauss': 'b'}\n",
    "    ]\n",
    "\n",
    "    for m, j in enumerate(J):\n",
    "        for key in j:\n",
    "            lbl = 'J'+str(m)+'_'+str(key)\n",
    "            plot(x, j[key], color_schema[m][key], label=lbl) # graficar\n",
    "\n",
    "    legend(loc = 'upper right')\n",
    "    show()\n",
    "    \n",
    "if __name__ == \"__main__\":\n",
    "    main()"
   ]
  }
 ],
 "metadata": {
  "kernelspec": {
   "display_name": "Python 3",
   "language": "python",
   "name": "python3"
  },
  "language_info": {
   "codemirror_mode": {
    "name": "ipython",
    "version": 3
   },
   "file_extension": ".py",
   "mimetype": "text/x-python",
   "name": "python",
   "nbconvert_exporter": "python",
   "pygments_lexer": "ipython3",
   "version": "3.7.4"
  }
 },
 "nbformat": 4,
 "nbformat_minor": 2
}
