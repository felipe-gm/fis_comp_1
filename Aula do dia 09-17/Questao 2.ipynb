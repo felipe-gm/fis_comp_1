{
 "cells": [
  {
   "cell_type": "code",
   "execution_count": null,
   "metadata": {
    "ExecuteTime": {
     "start_time": "2019-09-22T10:51:19.507Z"
    }
   },
   "outputs": [
    {
     "data": {
      "text/html": [
       "<div id=\"glowscript\" class=\"glowscript\"></div>"
      ],
      "text/plain": [
       "<IPython.core.display.HTML object>"
      ]
     },
     "metadata": {},
     "output_type": "display_data"
    },
    {
     "data": {
      "application/javascript": [
       "if (typeof Jupyter !== \"undefined\") { window.__context = { glowscript_container: $(\"#glowscript\").removeAttr(\"id\")};}else{ element.textContent = ' ';}"
      ],
      "text/plain": [
       "<IPython.core.display.Javascript object>"
      ]
     },
     "metadata": {},
     "output_type": "display_data"
    },
    {
     "data": {
      "application/javascript": [
       "if (typeof Jupyter !== \"undefined\") {require.undef(\"nbextensions/vpython_libraries/glow.min\");}else{element.textContent = ' ';}"
      ],
      "text/plain": [
       "<IPython.core.display.Javascript object>"
      ]
     },
     "metadata": {},
     "output_type": "display_data"
    },
    {
     "data": {
      "application/javascript": [
       "if (typeof Jupyter !== \"undefined\") {require.undef(\"nbextensions/vpython_libraries/glowcomm\");}else{element.textContent = ' ';}"
      ],
      "text/plain": [
       "<IPython.core.display.Javascript object>"
      ]
     },
     "metadata": {},
     "output_type": "display_data"
    },
    {
     "data": {
      "application/javascript": [
       "if (typeof Jupyter !== \"undefined\") {require.undef(\"nbextensions/vpython_libraries/jquery-ui.custom.min\");}else{element.textContent = ' ';}"
      ],
      "text/plain": [
       "<IPython.core.display.Javascript object>"
      ]
     },
     "metadata": {},
     "output_type": "display_data"
    },
    {
     "data": {
      "application/javascript": [
       "if (typeof Jupyter !== \"undefined\") {require([\"nbextensions/vpython_libraries/glow.min\"], function(){console.log(\"GLOW LOADED\");});}else{element.textContent = ' ';}"
      ],
      "text/plain": [
       "<IPython.core.display.Javascript object>"
      ]
     },
     "metadata": {},
     "output_type": "display_data"
    },
    {
     "data": {
      "application/javascript": [
       "if (typeof Jupyter !== \"undefined\") {require([\"nbextensions/vpython_libraries/glowcomm\"], function(){console.log(\"GLOWCOMM LOADED\");});}else{element.textContent = ' ';}"
      ],
      "text/plain": [
       "<IPython.core.display.Javascript object>"
      ]
     },
     "metadata": {},
     "output_type": "display_data"
    },
    {
     "data": {
      "application/javascript": [
       "if (typeof Jupyter !== \"undefined\") {require([\"nbextensions/vpython_libraries/jquery-ui.custom.min\"], function(){console.log(\"JQUERY LOADED\");});}else{element.textContent = ' ';}"
      ],
      "text/plain": [
       "<IPython.core.display.Javascript object>"
      ]
     },
     "metadata": {},
     "output_type": "display_data"
    }
   ],
   "source": [
    "from vpython import sphere , vector, color, rate\n",
    "from math    import cos    , sin   , pi\n",
    "from numpy   import loadtxt, arange\n",
    "\n",
    "# ajustando a visualizacao\n",
    "\n",
    "colors = [\n",
    "    color.orange,\n",
    "    color.magenta,\n",
    "    color.blue,\n",
    "    color.red,\n",
    "    color.green,\n",
    "    color.purple,\n",
    "    color.yellow\n",
    "]\n",
    "\n",
    "c1_ls = [\n",
    "    3e-4,\n",
    "    3e-4,\n",
    "    3e-4,\n",
    "    3e-4,\n",
    "    3e-4,\n",
    "    3e-4,\n",
    "    5e-5\n",
    "]\n",
    "\n",
    "\n",
    "# constantes\n",
    "\n",
    "dia = 24*60*60\n",
    "tmax = 1e4*dia\n",
    "dt = dia\n",
    "\n",
    "orb_params = loadtxt('orbitas.tsv')\n",
    "\n",
    "col_dict = {'r_obj':0,'r_orb':1,'p':2}\n",
    "\n",
    "omega_p = 2*pi/dia\n",
    "\n",
    "# objetos\n",
    "\n",
    "objs = [None for i in range(7)]\n",
    "for idx, row in enumerate(orb_params[:-1]):\n",
    "    objs[idx] = sphere(\n",
    "        pos=vector(orb_params[idx][col_dict['r_orb']], 0, 0),\n",
    "        radius=orb_params[idx][col_dict['r_obj']]*c1_ls[idx],\n",
    "        color=colors[idx]\n",
    "    )\n",
    "objs[6] = sphere(\n",
    "    pos=vector(0, 0, 0),\n",
    "    radius=orb_params[6][col_dict['r_obj']]*c1_ls[6],\n",
    "    color=colors[idx]\n",
    ")\n",
    "\n",
    "    \n",
    "# laco da animacao\n",
    "\n",
    "for t in arange(0, tmax, dt):\n",
    "    rate(20)\n",
    "    for idx, row in enumerate(orb_params[:-1]):\n",
    "        r_orb = orb_params[idx][col_dict['r_orb']]\n",
    "        x = r_orb*cos(omega_p*t/orb_params[idx][col_dict['p']])\n",
    "        y = r_orb*sin(omega_p*t/orb_params[idx][col_dict['p']])\n",
    "        objs[idx].pos = vector(x, y, 0)"
   ]
  }
 ],
 "metadata": {
  "kernelspec": {
   "display_name": "VPython",
   "language": "python",
   "name": "vpython"
  },
  "language_info": {
   "codemirror_mode": {
    "name": "ipython",
    "version": 3
   },
   "file_extension": ".py",
   "mimetype": "text/x-python",
   "name": "python",
   "nbconvert_exporter": "python",
   "pygments_lexer": "ipython3",
   "version": "3.7.2"
  }
 },
 "nbformat": 4,
 "nbformat_minor": 2
}
