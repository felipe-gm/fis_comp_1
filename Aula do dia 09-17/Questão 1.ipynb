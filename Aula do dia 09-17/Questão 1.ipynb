{
 "cells": [
  {
   "cell_type": "markdown",
   "metadata": {},
   "source": [
    "# Atomos de um unico cubo na origem"
   ]
  },
  {
   "cell_type": "markdown",
   "metadata": {},
   "source": [
    "## Atomos dos vertices"
   ]
  },
  {
   "cell_type": "markdown",
   "metadata": {},
   "source": [
    "$$\n",
    "(0, 0, 0)\n",
    "$$\n",
    "$$\n",
    "(1, 0, 0), (0, 1, 0), (0, 0, 1)\n",
    "$$\n",
    "$$\n",
    "(0, 1, 1), (1, 0, 1), (1, 1, 0)\n",
    "$$\n",
    "$$\n",
    "(1, 1, 1)\n",
    "$$"
   ]
  },
  {
   "cell_type": "markdown",
   "metadata": {},
   "source": [
    "## Atomos das faces"
   ]
  },
  {
   "cell_type": "markdown",
   "metadata": {},
   "source": [
    "$$\n",
    "(0, 0.5, .5), (0.5, 0, 0.5), (0.5, 0.5, 0)\n",
    "$$\n",
    "$$\n",
    "(1, 0.5, 0.5), (0.5, 1, 0.5), (0.5, 0.5 1)\n",
    "$$"
   ]
  },
  {
   "cell_type": "markdown",
   "metadata": {},
   "source": [
    "# Visualizacao de uma rede CFC"
   ]
  },
  {
   "cell_type": "code",
   "execution_count": 1,
   "metadata": {
    "ExecuteTime": {
     "end_time": "2019-09-20T00:30:26.984161Z",
     "start_time": "2019-09-20T00:30:22.257852Z"
    }
   },
   "outputs": [
    {
     "data": {
      "text/html": [
       "<div id=\"glowscript\" class=\"glowscript\"></div>"
      ],
      "text/plain": [
       "<IPython.core.display.HTML object>"
      ]
     },
     "metadata": {},
     "output_type": "display_data"
    },
    {
     "data": {
      "application/javascript": [
       "if (typeof Jupyter !== \"undefined\") { window.__context = { glowscript_container: $(\"#glowscript\").removeAttr(\"id\")};}else{ element.textContent = ' ';}"
      ],
      "text/plain": [
       "<IPython.core.display.Javascript object>"
      ]
     },
     "metadata": {},
     "output_type": "display_data"
    },
    {
     "name": "stdout",
     "output_type": "stream",
     "text": [
      "Quantos cubos na rede cristalina? 5\n",
      "\n",
      "\n",
      "Em verde indicamos os atmos posicionados nos vertices dos cubos\n",
      "\n"
     ]
    },
    {
     "data": {
      "application/javascript": [
       "if (typeof Jupyter !== \"undefined\") {require.undef(\"nbextensions/vpython_libraries/glow.min\");}else{element.textContent = ' ';}"
      ],
      "text/plain": [
       "<IPython.core.display.Javascript object>"
      ]
     },
     "metadata": {},
     "output_type": "display_data"
    },
    {
     "data": {
      "application/javascript": [
       "if (typeof Jupyter !== \"undefined\") {require.undef(\"nbextensions/vpython_libraries/glowcomm\");}else{element.textContent = ' ';}"
      ],
      "text/plain": [
       "<IPython.core.display.Javascript object>"
      ]
     },
     "metadata": {},
     "output_type": "display_data"
    },
    {
     "data": {
      "application/javascript": [
       "if (typeof Jupyter !== \"undefined\") {require.undef(\"nbextensions/vpython_libraries/jquery-ui.custom.min\");}else{element.textContent = ' ';}"
      ],
      "text/plain": [
       "<IPython.core.display.Javascript object>"
      ]
     },
     "metadata": {},
     "output_type": "display_data"
    },
    {
     "data": {
      "application/javascript": [
       "if (typeof Jupyter !== \"undefined\") {require([\"nbextensions/vpython_libraries/glow.min\"], function(){console.log(\"GLOW LOADED\");});}else{element.textContent = ' ';}"
      ],
      "text/plain": [
       "<IPython.core.display.Javascript object>"
      ]
     },
     "metadata": {},
     "output_type": "display_data"
    },
    {
     "data": {
      "application/javascript": [
       "if (typeof Jupyter !== \"undefined\") {require([\"nbextensions/vpython_libraries/glowcomm\"], function(){console.log(\"GLOWCOMM LOADED\");});}else{element.textContent = ' ';}"
      ],
      "text/plain": [
       "<IPython.core.display.Javascript object>"
      ]
     },
     "metadata": {},
     "output_type": "display_data"
    },
    {
     "data": {
      "application/javascript": [
       "if (typeof Jupyter !== \"undefined\") {require([\"nbextensions/vpython_libraries/jquery-ui.custom.min\"], function(){console.log(\"JQUERY LOADED\");});}else{element.textContent = ' ';}"
      ],
      "text/plain": [
       "<IPython.core.display.Javascript object>"
      ]
     },
     "metadata": {},
     "output_type": "display_data"
    },
    {
     "name": "stdout",
     "output_type": "stream",
     "text": [
      "\n",
      "Em azul indicamos os atmos posicionados nos centros das faces dos cubos\n",
      "\n"
     ]
    }
   ],
   "source": [
    "from vpython import sphere, vector, color\n",
    "\n",
    "L=int(input('Quantos cubos na rede cristalina? '))\n",
    "R = 0.1\n",
    "print()\n",
    "print('''\n",
    "Em verde indicamos os atmos posicionados nos vertices dos cubos\n",
    "''')\n",
    "for i in range(-L, L+1):\n",
    "    for j in range(-L, L+1):\n",
    "        for k in range(-L, L+1):\n",
    "            sphere(pos=vector(i,j,k), radius=R, color=color.green)\n",
    "            \n",
    "print('''\n",
    "Em azul indicamos os atmos posicionados nos centros das faces dos cubos\n",
    "''')\n",
    "for i in range(-L, L+1):\n",
    "    for j in range(-L, L):\n",
    "        for k in range(-L, L):\n",
    "            sphere(pos=vector(i,j+.5,k+.5), radius=R, color=color.blue)\n",
    "            \n",
    "for i in range(-L, L):\n",
    "    for j in range(-L, L+1):\n",
    "        for k in range(-L, L):\n",
    "            sphere(pos=vector(i+.5,j,k+.5), radius=R, color=color.blue)\n",
    "            \n",
    "for i in range(-L, L):\n",
    "    for j in range(-L, L):\n",
    "        for k in range(-L, L+1):\n",
    "            sphere(pos=vector(i+.5,j+.5,k), radius=R, color=color.blue)"
   ]
  }
 ],
 "metadata": {
  "kernelspec": {
   "display_name": "VPython",
   "language": "python",
   "name": "vpython"
  },
  "language_info": {
   "codemirror_mode": {
    "name": "ipython",
    "version": 3
   },
   "file_extension": ".py",
   "mimetype": "text/x-python",
   "name": "python",
   "nbconvert_exporter": "python",
   "pygments_lexer": "ipython3",
   "version": "3.7.2"
  }
 },
 "nbformat": 4,
 "nbformat_minor": 2
}
