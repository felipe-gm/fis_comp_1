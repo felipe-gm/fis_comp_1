{
  "nbformat": 4,
  "nbformat_minor": 0,
  "metadata": {
    "colab": {
      "name": "Questao1.ipynb",
      "provenance": [],
      "authorship_tag": "ABX9TyPBrDVSv3J6N2lMJQZKcKeA",
      "include_colab_link": true
    },
    "kernelspec": {
      "name": "python3",
      "display_name": "Python 3"
    }
  },
  "cells": [
    {
      "cell_type": "markdown",
      "metadata": {
        "id": "view-in-github",
        "colab_type": "text"
      },
      "source": [
        "<a href=\"https://colab.research.google.com/github/felipe-gm/ifusp_fiscomp_1/blob/master/2020_03_25/Questao1.ipynb\" target=\"_parent\"><img src=\"https://colab.research.google.com/assets/colab-badge.svg\" alt=\"Open In Colab\"/></a>"
      ]
    },
    {
      "cell_type": "markdown",
      "metadata": {
        "id": "3jhqqU17VtaC",
        "colab_type": "text"
      },
      "source": [
        "Related third party imports"
      ]
    },
    {
      "cell_type": "code",
      "metadata": {
        "id": "hLqVsr1R5tR2",
        "colab_type": "code",
        "colab": {}
      },
      "source": [
        "from numpy import array, arange\n",
        "import matplotlib.pyplot as plt"
      ],
      "execution_count": 0,
      "outputs": []
    },
    {
      "cell_type": "markdown",
      "metadata": {
        "id": "QIOGJhI3Qwy9",
        "colab_type": "text"
      },
      "source": [
        "Variaveis globais"
      ]
    },
    {
      "cell_type": "code",
      "metadata": {
        "id": "ELCoGSpx5xWq",
        "colab_type": "code",
        "colab": {}
      },
      "source": [
        "a = .0        # Inicio do intervalo da variavel independente \n",
        "b = 30.       # Final do intervalo da variavel independente\n",
        "N = 1000      # Numero de passos da integracao numerica\n",
        "h = (b-a)/N   # Tamnho de um passo de integracao"
      ],
      "execution_count": 0,
      "outputs": []
    },
    {
      "cell_type": "markdown",
      "metadata": {
        "id": "gvZLMcIQVEUF",
        "colab_type": "text"
      },
      "source": [
        "Constantes"
      ]
    },
    {
      "cell_type": "code",
      "metadata": {
        "id": "uq2c5hWb7yUF",
        "colab_type": "code",
        "colab": {}
      },
      "source": [
        "alpha, beta, gamma, delta = 1, .5, .5, 2"
      ],
      "execution_count": 0,
      "outputs": []
    },
    {
      "cell_type": "markdown",
      "metadata": {
        "id": "T6VcMcmzSjPT",
        "colab_type": "text"
      },
      "source": [
        "# Programa"
      ]
    },
    {
      "cell_type": "code",
      "metadata": {
        "id": "h3_JV5cC3ZW5",
        "colab_type": "code",
        "colab": {}
      },
      "source": [
        "def f(r,t):\n",
        "    \"\"\"Modelo predador-presa de Lotka-Volterra.\n",
        "    Neste modelo, as presas se reproduzem a uma taxa proporcional a sua \n",
        "    populacao, mas sao devorados pelos predadores a uma taxa proporcional\n",
        "    tanto a sua populacao quanto a populacao de predadores:\n",
        "    dx/dt = alpha*x - beta*x*y\n",
        "    em que alpha e beta sao constantes. Ao mesmo tempo que, os predadores se\n",
        "    reproduzem a uma taxa proporcional a taxa com que devoram presas, mas \n",
        "    tambem morrem de velhice a uma taxa proporcional a sua propria \n",
        "    populacao:\n",
        "    dy/dt = gamma*x*y - delta*y\n",
        "    em que tambem gamma e delta sao constantes.\n",
        "\n",
        "    Positional arguments:\n",
        "    r -- vetor de proporcoes do tamanho entre as duas especies (type\n",
        "    numpy.ndarray)\n",
        "    t -- tempo (type float)\n",
        "    \"\"\"\n",
        "    x, y = r[0], r[1]\n",
        "    fx, fy = alpha*x - beta*x*y, gamma*x*y - delta*y\n",
        "    return array([fx,fy], float)"
      ],
      "execution_count": 0,
      "outputs": []
    },
    {
      "cell_type": "code",
      "metadata": {
        "id": "a1ti-7gP5o9g",
        "colab_type": "code",
        "colab": {}
      },
      "source": [
        "def passo_rk4(f,r,t,h):\n",
        "    \"\"\"Calcula um passo no metodo de RK4\n",
        "\n",
        "    Positional arguments:\n",
        "    f -- equacao de difereca multidimensional (type function)\n",
        "    r -- vetor de proporcoes do tamanho entre as duas especies (type\n",
        "    numpy.ndarray)\n",
        "    t -- tempo (type float)\n",
        "    h -- tamnho de um passo de integracao (type float)\n",
        "    \"\"\"\n",
        "    k1 = h*f(r,t)\n",
        "    k2 = h*f(r+.5*k1,t+.5*h)\n",
        "    k3 = h*f(r+.5*k2,t+.5*h)\n",
        "    k4 = h*f(r+k3,t+h)\n",
        "    return (k1+2.*(k2+k3)+k4)/6."
      ],
      "execution_count": 0,
      "outputs": []
    },
    {
      "cell_type": "code",
      "metadata": {
        "id": "qCe032KU8PKZ",
        "colab_type": "code",
        "colab": {}
      },
      "source": [
        "t_rk4 = arange(a,b,h)\n",
        "x_rk4, y_rk4 = [], []"
      ],
      "execution_count": 0,
      "outputs": []
    },
    {
      "cell_type": "markdown",
      "metadata": {
        "id": "-LTjgJjKXzwJ",
        "colab_type": "text"
      },
      "source": [
        "Condicoes iniciais (e.g.: r(a))"
      ]
    },
    {
      "cell_type": "code",
      "metadata": {
        "id": "eUIeSZep8kP2",
        "colab_type": "code",
        "colab": {}
      },
      "source": [
        "ra = array([2.,2.],float)\n",
        "r = ra"
      ],
      "execution_count": 0,
      "outputs": []
    },
    {
      "cell_type": "markdown",
      "metadata": {
        "id": "qHIVrI6gX9kj",
        "colab_type": "text"
      },
      "source": [
        "Loop da integracao numerica"
      ]
    },
    {
      "cell_type": "code",
      "metadata": {
        "id": "-PtT2o2l9Ddp",
        "colab_type": "code",
        "colab": {}
      },
      "source": [
        "for t in t_rk4:\n",
        "    x_rk4.append(r[0])\n",
        "    y_rk4.append(r[1])\n",
        "    r += passo_rk4(f,r,t,h)"
      ],
      "execution_count": 0,
      "outputs": []
    },
    {
      "cell_type": "markdown",
      "metadata": {
        "id": "W5lqfLgiYMd7",
        "colab_type": "text"
      },
      "source": [
        "Plot"
      ]
    },
    {
      "cell_type": "code",
      "metadata": {
        "id": "-Q7YU6Q79Xlp",
        "colab_type": "code",
        "outputId": "08674a2f-7d67-4803-b372-66e54aecc0e8",
        "colab": {
          "base_uri": "https://localhost:8080/",
          "height": 279
        }
      },
      "source": [
        "plt.plot(t_rk4, x_rk4, label='milhares de coelhos')\n",
        "plt.plot(t_rk4, y_rk4, label='milhares de raposas')\n",
        "plt.xlabel(\"t\")\n",
        "plt.ylabel(\"x(t), y(t)\")\n",
        "plt.legend(loc='upper right')\n",
        "plt.show()"
      ],
      "execution_count": 0,
      "outputs": [
        {
          "output_type": "display_data",
          "data": {
            "image/png": "[encoded data removed]",
            "text/plain": [
              "<Figure size 432x288 with 1 Axes>"
            ]
          },
          "metadata": {
            "tags": []
          }
        }
      ]
    },
    {
      "cell_type": "markdown",
      "metadata": {
        "id": "OVMEQVJlSnB2",
        "colab_type": "text"
      },
      "source": [
        "# Descricao\n",
        "\n",
        "Dadas as constantes da simulacao, para condicoes iniciais propostas, os\n",
        "predadores nao encontram alimento suficiente e sua populacao diminui.\n",
        "Para as presas, em primeiro momento, a presenca de predadores eh escassa\n",
        "e sua populacao aumenta.\n",
        "\n",
        "Com o crescimento da populacao de presas, a diminuicao da quantidade de\n",
        "predadores desacelera até que para. O crescimento da populacao de presas\n",
        "continua, provocando o crescimento da populacao de predadores. Isto\n",
        "desacelera o crescimento da populacao de presas ate que para e comeca a\n",
        "diminuir.\n",
        "\n",
        "A diminuicao de presas desacelera o crescimento de predadores ate que o\n",
        "para e provoca sua diminuicao tambem. Para este conjunto de constantes,\n",
        "a diminuicao de ambas as especies perdura ate que as condicoes inicias\n",
        "se repitam, formando o intervalo de periodicidade da solucao."
      ]
    }
  ]
}