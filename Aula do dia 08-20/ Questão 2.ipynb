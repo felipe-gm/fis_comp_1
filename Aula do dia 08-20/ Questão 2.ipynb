{
 "cells": [
  {
   "cell_type": "code",
   "execution_count": 1,
   "metadata": {},
   "outputs": [
    {
     "name": "stdout",
     "output_type": "stream",
     "text": [
      "A matriz sigma x é:\n",
      "[[0.+0.j 1.+0.j]\n",
      " [1.+0.j 0.+0.j]]\n",
      "A matriz sigma y é:\n",
      "[[0.+0.j 0.-1.j]\n",
      " [0.+1.j 0.+0.j]]\n",
      "A matriz sigma z é:\n",
      "[[ 1.+0.j  0.+0.j]\n",
      " [ 0.+0.j -1.+0.j]]\n",
      "Resultados:\n",
      "[[ 1.+0.j  0.+0.j]\n",
      " [ 0.+0.j -1.-0.j]]\n",
      "[[0.+0.j 1.+0.j]\n",
      " [1.+0.j 0.+0.j]]\n",
      "[[0.+0.j 0.-1.j]\n",
      " [0.+1.j 0.+0.j]]\n"
     ]
    }
   ],
   "source": [
    "from numpy import array\n",
    "\n",
    "sig_x = array(\n",
    "    [\n",
    "        [0+0j,  1+0j],\n",
    "        [1+0j,  0+0j]\n",
    "    ]\n",
    ")\n",
    "sig_y = array(\n",
    "    [\n",
    "        [0+0j,  0-1j],\n",
    "        [0+1j,  0+0j]\n",
    "    ]\n",
    ")\n",
    "sig_z = array(\n",
    "    [\n",
    "        [1+0j,  0+0j],\n",
    "        [0+0j, -1+0j]\n",
    "    ]\n",
    ")\n",
    "print('A matriz sigma x é:')\n",
    "print(sig_x)\n",
    "print('A matriz sigma y é:')\n",
    "print(sig_y)\n",
    "print('A matriz sigma z é:')\n",
    "print(sig_z)\n",
    "\n",
    "def comut(m0, m1):\n",
    "    from numpy import dot\n",
    "    return dot(m0, m1) - dot(m1, m0)\n",
    "result = comut(sig_x,sig_y)/2j, comut(sig_y,sig_z)/2j, comut(sig_z,sig_x)/2j\n",
    "print('Resultados:')\n",
    "print(result[0])\n",
    "print(result[1])\n",
    "print(result[2])"
   ]
  }
 ],
 "metadata": {
  "kernelspec": {
   "display_name": "'Python Interactive'",
   "language": "python",
   "name": "8a46d0c0-a5a4-450e-b366-dfd40c0cc2bb"
  },
  "language_info": {
   "codemirror_mode": {
    "name": "ipython",
    "version": 3
   },
   "file_extension": ".py",
   "mimetype": "text/x-python",
   "name": "python",
   "nbconvert_exporter": "python",
   "pygments_lexer": "ipython3",
   "version": "3.6.8"
  }
 },
 "nbformat": 4,
 "nbformat_minor": 2
}
