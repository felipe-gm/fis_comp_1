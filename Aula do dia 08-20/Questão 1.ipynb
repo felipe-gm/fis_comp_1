{
 "cells": [
  {
   "cell_type": "code",
   "execution_count": 27,
   "metadata": {},
   "outputs": [
    {
     "name": "stdout",
     "output_type": "stream",
     "text": [
      "O array de de nao multiplos de 4 é:\n",
      "[ 1  2  3  5  6  7  9 10 11 13 14 15 17 18 19 21 22 23 25 26 27 29 30 31\n",
      " 33 34 35 37 38 39 41 42 43 45 46 47 49 50 51 53 54 55 57 58 59 61 62 63\n",
      " 65 66 67 69 70 71 73 74 75 77 78 79 81 82 83 85 86 87 89 90 91 93 94 95\n",
      " 97 98 99]\n",
      "O tamanho deste array é: 75\n",
      "O resultado da soma dos elementos do terceiro vetor é: 4250.195386552991\n"
     ]
    }
   ],
   "source": [
    "from numpy import array\n",
    "\n",
    "i              = 1\n",
    "not_4_multiple = []\n",
    "while i<=100:\n",
    "    if i%4 != 0: # verifica se eh divisivel por 4\n",
    "        not_4_multiple.append(i)\n",
    "    i+=1\n",
    "    \n",
    "not_4_multiple = array(not_4_multiple)\n",
    "print('O array de de nao multiplos de 4 é:')\n",
    "print(not_4_multiple)\n",
    "\n",
    "print('O tamanho deste array é: '+str(not_4_multiple.__len__()))\n",
    "\n",
    "sqrt = not_4_multiple**(1/2)\n",
    "\n",
    "add = not_4_multiple+sqrt\n",
    "\n",
    "su = add.sum()\n",
    "\n",
    "print('O resultado da soma dos elementos do terceiro vetor é: '+str(su))"
   ]
  }
 ],
 "metadata": {
  "kernelspec": {
   "display_name": "'Python Interactive'",
   "language": "python",
   "name": "8a46d0c0-a5a4-450e-b366-dfd40c0cc2bb"
  },
  "language_info": {
   "codemirror_mode": {
    "name": "ipython",
    "version": 3
   },
   "file_extension": ".py",
   "mimetype": "text/x-python",
   "name": "python",
   "nbconvert_exporter": "python",
   "pygments_lexer": "ipython3",
   "version": "3.6.8"
  }
 },
 "nbformat": 4,
 "nbformat_minor": 2
}
